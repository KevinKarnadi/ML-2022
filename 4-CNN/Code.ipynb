{
  "cells": [
    {
      "attachments": {},
      "cell_type": "markdown",
      "metadata": {
        "id": "IagZMs0_qjdL"
      },
      "source": [
        "# 1. Introduction\n",
        "\n",
        "In this project, we will build a convolutional neural network step by step. In this notebook, we will implement all the functions required to build a convolutional neural network. We will then train the model, which mainly consists of two parts: convolution layer and pooling layer."
      ]
    },
    {
      "attachments": {},
      "cell_type": "markdown",
      "metadata": {
        "id": "yGFR00CQvoaH"
      },
      "source": [
        "# 2. Packages\n",
        "\n",
        "* numpy : The fundamental package for scientific computing with Python.\n",
        "* matplotlib : A comprehensive library for creating static, animated, and interactive visualizations in Python.\n",
        "* math : Python has a built-in module that we can use for mathematical tasks.\n",
        "* pandas.read_csv : Provides functionality for reading a csv dataset from a GitHub repository.\n",
        "* sklearn.model_selection.train_test_split: A function that helps us to split train and test data.\n",
        "* os: A module provides the facility to establish the interaction between the user and the operating system. We can access the image directory by os.\n",
        "* cv2.imread: It is the module import name for opencv-python.\n",
        "* time: Provides various time-related functions.\n",
        "* google.colab.drive: Let's us connect colab and our google drive.\n",
        "* sys: Let's us access system-specific parameters and functions.\n",
        "\n",
        "⚠️ **NOTICE** ⚠️:\n",
        "*   np.random.seed(seed) is used to keep all the random function calls consistent."
      ]
    },
    {
      "cell_type": "code",
      "execution_count": null,
      "metadata": {
        "colab": {
          "base_uri": "https://localhost:8080/"
        },
        "id": "YcLLrIEc-4h6",
        "outputId": "63421c5c-76ea-4eb8-913b-20943cb6d7cc"
      },
      "outputs": [],
      "source": [
        "from google.colab import drive\n",
        "drive.mount('/content/drive')"
      ]
    },
    {
      "cell_type": "code",
      "execution_count": 2,
      "metadata": {
        "id": "_go37iU6-4k8"
      },
      "outputs": [],
      "source": [
        "import sys\n",
        "sys.path.append(\"/content/drive/MyDrive/Functions\") ## the path of the directory where we place dense.py, activation.py ...."
      ]
    },
    {
      "cell_type": "code",
      "execution_count": 3,
      "metadata": {
        "id": "fmTH9UkeqdYf"
      },
      "outputs": [],
      "source": [
        "import os\n",
        "import math\n",
        "import time \n",
        "import numpy as np\n",
        "from cv2 import imread, IMREAD_GRAYSCALE # IMREAD_GRAYSCALE allow us to load the image as gray scale image\n",
        "from pandas import read_csv\n",
        "import matplotlib.pyplot as plt\n",
        "\n",
        "from Dense import Dense\n",
        "from Activation import Activation\n",
        "from Loss import compute_BCE_cost\n",
        "from Predict import predict\n",
        "\n",
        "output = {}\n",
        "seed = 1\n",
        "np.random.seed(seed)"
      ]
    },
    {
      "attachments": {},
      "cell_type": "markdown",
      "metadata": {
        "id": "VMe4BNRPRQvF"
      },
      "source": [
        "# 3. Convolution layer\n",
        "\n",
        "In this section, we will need to implement a very important part of the convolutional neural network, which is the convolution layer. Convolution layer enables us to capture the important features of input images."
      ]
    },
    {
      "cell_type": "code",
      "execution_count": 4,
      "metadata": {
        "id": "ADlgENHVRQvG"
      },
      "outputs": [],
      "source": [
        "def zero_pad(X, pad):\n",
        "    \"\"\"\n",
        "    Pad with zeros all images of the dataset X. The padding is applied to the height and width of an image.\n",
        "    \n",
        "    Argument:\n",
        "    X -- python numpy array of shape (m, n_H, n_W, n_C), where m represent the number of examples.\n",
        "    pad -- integer, amount of padding around each image on vertical and horizontal dimensions\n",
        "    \n",
        "    Returns:\n",
        "    X_pad -- padded image of shape (m, n_H + 2*pad, n_W + 2*pad, n_C)\n",
        "    \"\"\"\n",
        "    \n",
        "    X_pad = np.pad(X, ((0,0), (pad,pad), (pad,pad), (0,0)), \"constant\", constant_values = (0,0))\n",
        "    \n",
        "    return X_pad"
      ]
    },
    {
      "cell_type": "code",
      "execution_count": 5,
      "metadata": {
        "id": "nNerbFLTRQvG"
      },
      "outputs": [],
      "source": [
        "class Conv():\n",
        "    def __init__(self, filter_size=2, input_channel=3, output_channel=8, pad=1, stride=1, seed=1):\n",
        "        \n",
        "        self.filter_size= filter_size\n",
        "        self.input_channel=input_channel\n",
        "        self.output_channel=output_channel\n",
        "        self.seed = seed\n",
        "        \n",
        "        self.parameters = {\"pad\": pad, \"stride\": stride}\n",
        "        self.initialize_parameters()\n",
        "        \n",
        "        \n",
        "        self.name=\"conv\"\n",
        "\n",
        "    def initialize_parameters(self):\n",
        "        \"\"\"\n",
        "        Argument:\n",
        "        self.filter_size -- size of the filter\n",
        "        self.input_channel -- size of the input channel\n",
        "        self.output_channel -- size of the output channel\n",
        "        self.parameters -- python dictionary containing your parameters:\n",
        "                           W -- weight matrix of shape (filter_size, filter_size, input channel size, output channel size)\n",
        "                           b -- bias vector of shape (1, 1, 1, output channel size)\n",
        "                           pad -- amount of padding around each image on vertical and horizontal dimensions\n",
        "                           stride -- represent the amount of movement that a filter move in one step\n",
        "        \"\"\"\n",
        "        np.random.seed(seed)\n",
        "\n",
        "        limit = math.sqrt(6 / (self.input_channel + self.output_channel))\n",
        "        W = np.random.uniform(-limit, limit, (self.filter_size,self.filter_size,self.input_channel,self.output_channel))\n",
        "        b = np.zeros((1,1,1,self.output_channel))\n",
        "\n",
        "        assert(W.shape == (self.filter_size,self.filter_size,self.input_channel,self.output_channel))\n",
        "        assert(b.shape == (1,1,1,self.output_channel))\n",
        "\n",
        "        self.parameters['W'] = W\n",
        "        self.parameters['b'] = b\n",
        "        \n",
        "    \n",
        "    \n",
        "    def conv_single_step(self, a_slice_prev, W, b):\n",
        "        \"\"\"\n",
        "        Apply a filter W on a_slice_prev.\n",
        "\n",
        "        Arguments:\n",
        "        a_slice_prev -- slice of input data of shape (filter_size, filter_size, n_C_prev)\n",
        "        W -- Weight parameters contained in a window - matrix of shape (filter_size, filter_size, n_C_prev)\n",
        "        b -- Bias parameters contained in a window - matrix of shape (1, 1, 1)\n",
        "\n",
        "        Returns:\n",
        "        Z -- a scalar value, result of convolving the sliding window (W, b) on a slice x of the input data\n",
        "        \"\"\"\n",
        "\n",
        "        # Element-wise product between a_slice and W.\n",
        "        s = np.multiply(a_slice_prev, W)\n",
        "        # Sum over all entries of the volume s.\n",
        "        Z = np.sum(s)\n",
        "        # Add bias b to Z. Cast b to a float() so that Z results in a scalar value.\n",
        "        Z = Z + float(b)\n",
        "\n",
        "        return Z\n",
        "    \n",
        "    def forward(self, A_prev):\n",
        "        \"\"\"\n",
        "        Implements the forward propagation for a convolution layer\n",
        "\n",
        "        Arguments:\n",
        "        A_prev -- output activations of the previous layer, numpy array of shape (m, n_H_prev, n_W_prev, n_C_prev)\n",
        "\n",
        "        Returns:\n",
        "        Z -- conv output, numpy array of shape (m, n_H, n_W, n_C)\n",
        "        \"\"\"\n",
        "\n",
        "        # Retrieve dimensions from A_prev's shape\n",
        "        (m, n_H_prev, n_W_prev, n_C_prev) = A_prev.shape\n",
        "\n",
        "        # Retrieve dimensions from W's shape\n",
        "        (f, f, n_C_prev, n_C) = self.parameters[\"W\"].shape\n",
        "\n",
        "\n",
        "        # Compute the dimensions of the convolution output volume using the formula given below.\n",
        "        n_H = int((n_H_prev - f + (2 * self.parameters[\"pad\"])) / self.parameters[\"stride\"]) + 1\n",
        "        n_W = int((n_W_prev - f + (2 * self.parameters[\"pad\"])) / self.parameters[\"stride\"]) + 1\n",
        "\n",
        "        # Initialize the output volume Z with zeros.\n",
        "        Z = np.zeros((m, n_H, n_W, n_C))\n",
        "\n",
        "        # if pad!=0, create A_prev_pad by padding A_prev with the parameter \"pad\".\n",
        "        A_prev_pad = zero_pad(A_prev, self.parameters[\"pad\"])\n",
        "\n",
        "        for i in range(m):                                 # loop over the batch of training examples\n",
        "            a_prev_pad = A_prev_pad[i,:,:,:]               # Select ith training example's padded activation\n",
        "            for h in range(n_H):                           # loop over vertical axis of the output volume\n",
        "                for w in range(n_W):                       # loop over horizontal axis of the output volume\n",
        "                    for c in range(n_C):                   # loop over channels (= #filter) of the output volume\n",
        "\n",
        "                        # Find the corners of the current \"slice\"\n",
        "                        v_start = h*self.parameters[\"stride\"]\n",
        "                        v_end = v_start + f\n",
        "                        h_start = w*self.parameters[\"stride\"]\n",
        "                        h_end = h_start + f\n",
        "\n",
        "                        # Use the corners to define the slice of a_prev_pad.\n",
        "                        a_slice_prev = a_prev_pad[v_start:v_end, h_start:h_end, :]\n",
        "\n",
        "                        # Convolve the (3D) slice with the correct filter W and bias b, to get back one output neuron.\n",
        "                        Z[i, h, w, c] = self.conv_single_step(a_slice_prev, self.parameters[\"W\"][:,:,:,c], self.parameters[\"b\"][:,:,:,c])\n",
        "\n",
        "        # Making sure our output shape is correct\n",
        "        assert(Z.shape == (m, n_H, n_W, n_C))\n",
        "\n",
        "        # Save information in \"cache\" for the backward pass\n",
        "        self.cache = A_prev\n",
        "\n",
        "        return Z\n",
        "    \n",
        "    def backward(self, dZ):\n",
        "        \"\"\"\n",
        "        Implement the backward propagation for a convolution layer\n",
        "\n",
        "        Arguments:\n",
        "        dZ -- gradient of the cost with respect to the output of the conv layer (Z), numpy array of shape (m, n_H, n_W, n_C)\n",
        "\n",
        "        Returns:\n",
        "        dA_prev -- gradient of the cost with respect to the input of the conv layer (A_prev),\n",
        "                   numpy array of shape (m, n_H_prev, n_W_prev, n_C_prev)\n",
        "        \"\"\"\n",
        "\n",
        "\n",
        "        A_prev = self.cache\n",
        "\n",
        "        # Retrieve dimensions from A_prev's shape\n",
        "        (m, n_H_prev, n_W_prev, n_C_prev) = A_prev.shape\n",
        "\n",
        "        # Retrieve dimensions from W's shape\n",
        "        (f, f, n_C_prev, n_C) = self.parameters[\"W\"].shape\n",
        "\n",
        "\n",
        "        # Retrieve dimensions from dZ's shape\n",
        "        (m, n_H, n_W, n_C) = dZ.shape\n",
        "\n",
        "        # Initialize dA_prev, dW, db with the correct shapes\n",
        "        dA_prev = np.zeros((m, n_H_prev, n_W_prev, n_C_prev))                           \n",
        "        dW = np.zeros((f, f, n_C_prev, n_C))\n",
        "        db = np.zeros((1, 1, 1, n_C))\n",
        "\n",
        "        # Pad A_prev and dA_prev\n",
        "        A_prev_pad = zero_pad(A_prev, self.parameters[\"pad\"])\n",
        "        dA_prev_pad = zero_pad(dA_prev, self.parameters[\"pad\"])\n",
        "\n",
        "        for i in range(m):                       # loop over the training examples\n",
        "\n",
        "            # select ith training example from A_prev_pad and dA_prev_pad\n",
        "            a_prev_pad = A_prev_pad[i]\n",
        "            da_prev_pad = dA_prev_pad[i]\n",
        "\n",
        "            for h in range(n_H):                   # loop over vertical axis of the output volume\n",
        "                for w in range(n_W):               # loop over horizontal axis of the output volume\n",
        "                    for c in range(n_C):           # loop over the channels of the output volume\n",
        "\n",
        "                        # Find the corners of the current \"slice\"\n",
        "                        vert_start = h * self.parameters[\"stride\"]\n",
        "                        vert_end = vert_start + f\n",
        "                        horiz_start = w * self.parameters[\"stride\"]\n",
        "                        horiz_end = horiz_start + f\n",
        "\n",
        "                        # Use the corners to define the slice from a_prev_pad\n",
        "                        a_slice = a_prev_pad[vert_start:vert_end, horiz_start:horiz_end, :]\n",
        "\n",
        "                        # Update gradients for the window and the filter's parameters\n",
        "                        da_prev_pad[vert_start:vert_end, horiz_start:horiz_end, :] += self.parameters[\"W\"][:,:,:,c] * dZ[i, h, w, c]\n",
        "                        dW[:,:,:,c] += a_slice * dZ[i, h, w, c]\n",
        "                        db[:,:,:,c] += dZ[i, h, w, c]\n",
        "\n",
        "            # Set the ith training example's dA_prev to the unpaded da_prev_pad\n",
        "            dA_prev[i, :, :, :] = da_prev_pad[self.parameters[\"pad\"]:da_prev_pad.shape[0]-self.parameters[\"pad\"], \n",
        "                                              self.parameters[\"pad\"]:da_prev_pad.shape[1]-self.parameters[\"pad\"], :]\n",
        "\n",
        "        assert(dA_prev.shape == (m, n_H_prev, n_W_prev, n_C_prev))\n",
        "\n",
        "        self.dW = dW\n",
        "        self.db = db\n",
        "\n",
        "        return dA_prev\n",
        "    \n",
        "    def update(self, learning_rate):\n",
        "        \"\"\"\n",
        "        Update parameters using gradient descent\n",
        "        \n",
        "        Arguments:\n",
        "        learning rate -- step size\n",
        "        \"\"\"\n",
        "\n",
        "        self.parameters[\"W\"] = self.parameters[\"W\"] - learning_rate * self.dW\n",
        "        self.parameters[\"b\"] = self.parameters[\"b\"] - learning_rate * self.db"
      ]
    },
    {
      "attachments": {},
      "cell_type": "markdown",
      "metadata": {
        "id": "3Q_4VjV5W_gL"
      },
      "source": [
        "## 3.1 initialization\n",
        "Using Glorot uniform initialization to initialize the convolution layer's filters with the parameters: filter_size, input_channel, and output_channel.\n",
        "\n",
        "*   Use random initialization (uniform distribution) for the weight matrices. Draws samples from a uniform distribution within [-limit, limit], where limit = sqrt(6 / (fan_in + fan_out)), fan_in is the **number of input channel** and fan_out is the **number of output channel**. However, in the usual implementation, we will consider fan_in and fan_out as the number of input units and the number of output units.\n",
        "*   Use zero initialization for the biases.\n",
        "\n",
        "It will take following parameters to initialize the convolution layer:\n",
        "*   filter_size: The filter will be in the shape of (filter_size*filter_size)\n",
        "*   input_channel: size of the input channel\n",
        "*   output_channel: size of the output channel\n",
        "*   pad: amount of padding around each image on vertical and horizontal dimensions\n",
        "*   stride: represent the amount of movement that a filter move in one step"
      ]
    },
    {
      "attachments": {},
      "cell_type": "markdown",
      "metadata": {
        "id": "OAHuFnmDIhgY"
      },
      "source": [
        "## 3.2  Zero-Padding\n",
        "\n",
        "Pad around each image on vertical and horizontal dimensions with zero.\n",
        "\n",
        "1. It allows us to use a convolution layer without necessarily shrinking the height and width of the volumes. This is important for building deeper networks since otherwise the height/width would shrink as we go to deeper layers. \n",
        "2. It helps us keep more of the information at the border of an image. Without padding, very few values at the next layer would be affected by pixels as the edges of an image.\n",
        "\n",
        "This function takes the following inputs:\n",
        "*   X: input.\n",
        "*   pad: amount of padding around each image on vertical and horizontal dimensions."
      ]
    },
    {
      "attachments": {},
      "cell_type": "markdown",
      "metadata": {
        "id": "GPVifontJlWr"
      },
      "source": [
        "## 3.3 Convolution_single_step\n",
        "In this part, we will implement a single step of convolution, in which we apply the filter to a single position of the input. This will be used to build a convolutional unit.\n",
        "\n",
        "We will convolve an f*f filter with the image by multiplying its values element-wise with the original matrix, then summing them up and adding a bias.\n",
        "\n",
        "This function takes the following inputs:\n",
        "*   a_slice_prev: the output of the activation by the previous layer.\n",
        "*   W: the filter with size f*f.\n",
        "*   b: the bias.\n"
      ]
    },
    {
      "attachments": {},
      "cell_type": "markdown",
      "metadata": {
        "id": "764-uaZwLGNL"
      },
      "source": [
        "## 3.4 Forward pass\n",
        "In the forward pass, we will take many filters and convolve them through the input. Each 'convolution' gives us a 2D matrix output. We will then stack these outputs to get a 3D volume.\n",
        "\n",
        "Notice that the output shape of the convolution forward will be (H, W, C).\n",
        "* $H= \\lfloor\\frac{H_{prev }-f+2*pad}{stride}\\rfloor+1$\n",
        "* $W= \\lfloor\\frac{W_{prev }-f+2*pad}{stride}\\rfloor+1$\n",
        "* $C = $ number of filters\n",
        "\n",
        "f = filter_size\n",
        "\n",
        "This function takes the following input:\n",
        "*   A_prev: the output of the activation by the previous layer, it's an array with shape (m, H_prev, W_prev, C_prev).\n",
        "    *  m: number of examples.\n",
        "    *  H_prev, W_prev, C_prev: the height, width, and channel of the output of the previous layer.\n",
        "\n",
        "Here are some steps for us to finish in this part:\n",
        "1. Define **a_slice_prev**, which represent the input slice of conv_single_step( ).\n",
        "2. To define **a_slice_prev**, we have to define its' corners: **vert_start, vert_end, horiz_start and horiz_end**."
      ]
    },
    {
      "attachments": {},
      "cell_type": "markdown",
      "metadata": {
        "id": "bbGLz2F_ReRr"
      },
      "source": [
        "## 3.5 Update parameters\n",
        "In this section we will update the parameters of the convolution layer, using gradient descent:\n",
        "\n",
        "$$ W^{[l]} = W^{[l]} - \\alpha \\text{ } dW^{[l]} $$$$ b^{[l]} = b^{[l]} - \\alpha \\text{ } db^{[l]} $$\n",
        "\n",
        "**Instructions**: \n",
        "*   Update parameters using gradient descent on $W^{[l]}$ and $b^{[l]}$.\n"
      ]
    },
    {
      "cell_type": "markdown",
      "metadata": {
        "id": "goYhkmioRQvI"
      },
      "source": [
        "# 4. Maxpooling layer\n",
        "\n",
        "The pooling layer reduces the size (height and width) of the input. It helps reduce computation, as well as helps make feature detectors more invariant to their position in the input. In this section, we will focus on maxpooling layer."
      ]
    },
    {
      "cell_type": "code",
      "execution_count": 11,
      "metadata": {
        "id": "Z8j9VErNRQvI"
      },
      "outputs": [],
      "source": [
        "class MaxPool():\n",
        "    def __init__(self, filter_size=2, stride=2):\n",
        "        \"\"\"\n",
        "        Argument:\n",
        "        self.parameters -- python dictionary containing your parameters:\n",
        "                           f -- size of a filter\n",
        "                           stride -- the amount of movement that a filter move in one step\n",
        "        \"\"\"\n",
        "    \n",
        "        self.parameters = {\"f\": filter_size, \"stride\": stride}\n",
        "        self.name=\"maxpool\"\n",
        "        \n",
        "        \n",
        "    def forward(self, A_prev):\n",
        "        \"\"\"\n",
        "        Implements the forward pass of the max pooling layer\n",
        "\n",
        "        Arguments:\n",
        "        A_prev -- Input data, numpy array of shape (m, n_H_prev, n_W_prev, n_C_prev)\n",
        "\n",
        "        Returns:\n",
        "        A -- output of the pool layer, a numpy array of shape (m, n_H, n_W, n_C)\n",
        "        \"\"\"\n",
        "\n",
        "        # Retrieve dimensions from the input shape.\n",
        "        (m, n_H_prev, n_W_prev, n_C_prev) = A_prev.shape\n",
        "\n",
        "\n",
        "        # Define the dimensions of the output.\n",
        "        n_H = int((n_H_prev - self.parameters[\"f\"]) / self.parameters[\"stride\"]) + 1\n",
        "        n_W = int((n_W_prev - self.parameters[\"f\"]) / self.parameters[\"stride\"]) + 1\n",
        "        n_C = n_C_prev\n",
        "\n",
        "        # Initialize output matrix A with zeros.\n",
        "        A = np.zeros((m, n_H, n_W, n_C))\n",
        "\n",
        "        for i in range(m):                           # loop over the training examples\n",
        "            for h in range(n_H):                     # loop on the vertical axis of the output volume\n",
        "                for w in range(n_W):                 # loop on the horizontal axis of the output volume\n",
        "                    for c in range (n_C):            # loop over the channels of the output volume\n",
        "\n",
        "                        # Find the corners of the current \"slice\".\n",
        "                        v_start = self.parameters[\"stride\"] * h\n",
        "                        v_end = v_start + self.parameters[\"f\"]\n",
        "                        h_start = self.parameters[\"stride\"] * w\n",
        "                        h_end = h_start + self.parameters[\"f\"]\n",
        "\n",
        "                        # Use the corners to define the current slice on the ith training example of A_prev, channel c.\n",
        "                        a_prev_slice = A_prev[i, v_start:v_end, h_start:h_end, c]\n",
        "\n",
        "                        # Compute the max pooling operation on a_prev_slice.\n",
        "                        A[i, h, w, c] = np.max(a_prev_slice)\n",
        "\n",
        "        # Store the input in \"cache\" for backward pass\n",
        "        self.cache = A_prev\n",
        "\n",
        "        # Making sure your output shape is correct\n",
        "        assert(A.shape == (m, n_H, n_W, n_C))\n",
        "\n",
        "        return A\n",
        "    \n",
        "    def create_mask_from_window(self, x):\n",
        "        \"\"\"\n",
        "        Creates a mask from an input x to identify the max entry of x.\n",
        "\n",
        "        Arguments:\n",
        "        x -- Array of shape (filter_size, filter_size)\n",
        "\n",
        "        Returns:\n",
        "        mask -- Array of the same shape as filter, contains a True at the position corresponding to the max entry of x.\n",
        "        \"\"\"\n",
        "\n",
        "        mask = x == np.max(x)\n",
        "\n",
        "        return mask\n",
        "    \n",
        "    def backward(self, dA):\n",
        "        \"\"\"\n",
        "        Implements the backward pass of the max pooling layer\n",
        "\n",
        "        Arguments:\n",
        "        dA -- gradient of cost with respect to the output of the pooling layer, same shape as A \n",
        "\n",
        "        Returns:\n",
        "        dA_prev -- gradient of cost with respect to the input of the pooling layer, same shape as A_prev\n",
        "        \"\"\"\n",
        "\n",
        "        # Retrieve information from cache\n",
        "        A_prev = self.cache\n",
        "\n",
        "        # Retrieve dimensions from A_prev's shape and dA's shape\n",
        "        m, n_H_prev, n_W_prev, n_C_prev = A_prev.shape\n",
        "        m, n_H, n_W, n_C = dA.shape\n",
        "\n",
        "        # Initialize dA_prev with zeros\n",
        "        dA_prev = np.zeros(A_prev.shape)\n",
        "\n",
        "        for i in range(m):  # loop over the training examples\n",
        "            # select training example from A_prev                    \n",
        "            a_prev = A_prev[i]\n",
        "            for h in range(n_H):   # loop on the vertical axis            \n",
        "                for w in range(n_W):  # loop on the horizontal axis             \n",
        "                    for c in range(n_C): # loop over the channels\n",
        "\n",
        "                        # Find the corners of the current \"slice\"          \n",
        "                        vert_start = h * self.parameters[\"stride\"]\n",
        "                        vert_end = vert_start + self.parameters[\"f\"]\n",
        "                        horiz_start = w * self.parameters[\"stride\"]\n",
        "                        horiz_end = horiz_start + self.parameters[\"f\"] \n",
        "\n",
        "                        #Use the corners and \"c\" to define the current slice from a_prev\n",
        "                        a_prev_slice = a_prev[vert_start:vert_end, horiz_start:horiz_end, c]\n",
        "                        # Create the mask from a_prev_slice\n",
        "                        mask = self.create_mask_from_window(a_prev_slice)\n",
        "                        # Set dA_prev to be dA_prev + (the mask multiplied by the correct entry of dA)\n",
        "                        dA_prev[i, vert_start:vert_end, horiz_start:horiz_end, c] += np.multiply(mask, dA[i, h, w, c])\n",
        "\n",
        "\n",
        "\n",
        "        # Make sure your output shape is correct\n",
        "        assert(dA_prev.shape == A_prev.shape)\n",
        "\n",
        "        return dA_prev\n",
        "\n"
      ]
    },
    {
      "attachments": {},
      "cell_type": "markdown",
      "metadata": {
        "id": "YXSF-PhOxauK"
      },
      "source": [
        "## 4.1 Forward pass\n",
        "\n",
        "It will take following parameters to initialize a max pooling layer:\n",
        "*   filter_size: the filter will be in the shape of (filter_size*filter_size)\n",
        "*   stride: the amount of movement that a filter move in one step\n",
        "\n",
        "In the forward pass, we will slide a ( f*f ) filter over the input and store the max value of the window in the output. (f means the filter size)\n",
        "\n",
        "Notice that the output shape of the forward pass will be (H, W, C).\n",
        "* $H= \\lfloor\\frac{H_{prev }-f}{stride}\\rfloor+1$\n",
        "* $W= \\lfloor\\frac{W_{prev }-f}{stride}\\rfloor+1$\n",
        "* $C = C_{prev}$\n",
        "\n",
        "This forward function takes the following input:\n",
        "*   A_prev: the output of the previous layer, it's an array with shape (m, H_prev, W_prev, C_prev).\n",
        "\n",
        "\n",
        "\n",
        "\n"
      ]
    },
    {
      "cell_type": "markdown",
      "metadata": {
        "id": "Wn-VBGGURQvJ"
      },
      "source": [
        "# 5. Flatten layer"
      ]
    },
    {
      "attachments": {},
      "cell_type": "markdown",
      "metadata": {
        "id": "cJN7EvSuaKGW"
      },
      "source": [
        "To connect the convolution layer and the dense layer, we should flatten the output of the convolution layer or max pooling layer before dense layer."
      ]
    },
    {
      "cell_type": "code",
      "execution_count": 13,
      "metadata": {
        "id": "2-F3jskjRQvK"
      },
      "outputs": [],
      "source": [
        "class Flatten():\n",
        "    def __init__(self):\n",
        "        self.name=\"flatten\"\n",
        "\n",
        "    def forward(self, A_prev):\n",
        "        \"\"\"\n",
        "        Implements the forward pass of the flatten layer\n",
        "\n",
        "        Arguments:\n",
        "        A_prev -- Input data, numpy array of shape (m, n_H_prev, n_W_prev, n_C_prev)\n",
        "\n",
        "        Returns:\n",
        "        A -- output of the flatten layer, a 1-dimensional array\n",
        "        \"\"\"\n",
        "\n",
        "        # Save information in \"cache\" for the backward pass\n",
        "        self.cache = A_prev[0].shape\n",
        "\n",
        "        A = A_prev.reshape((A_prev.shape[0], A_prev.shape[1]*A_prev.shape[2]*A_prev.shape[3]))\n",
        "\n",
        "        return A\n",
        "\n",
        "    def backward(self, dA):\n",
        "        \"\"\"\n",
        "        Implements the backward pass of the flatten layer\n",
        "\n",
        "        Arguments:\n",
        "        dA -- Input data, a 1-dimensional array\n",
        "\n",
        "        Returns:\n",
        "        dA_prev -- An array with its original shape (the output shape of its' previous layer).\n",
        "        \"\"\"\n",
        "        \n",
        "        dA_prev = dA.reshape((dA.shape[0], self.cache[0], self.cache[1], self.cache[2]))\n",
        "        \n",
        "        return dA_prev"
      ]
    },
    {
      "attachments": {},
      "cell_type": "markdown",
      "metadata": {
        "id": "5Haf0l4nau3y"
      },
      "source": [
        "## 5.1 Forward pass\n",
        "\n",
        "Implement the forward pass of flatten layer. Turn the input array into a 1-dimensional array.\n",
        "\n",
        "This function takes the following input:\n",
        "*   A_prev: Input data, it's an array with shape (m, n_H_prev, n_W_prev, n_C_prev).\n"
      ]
    },
    {
      "attachments": {},
      "cell_type": "markdown",
      "metadata": {
        "id": "qdWPIB6_a8_n"
      },
      "source": [
        "## 5.2  Backward pass\n",
        "\n",
        "Implement the backward pass of flatten layer. Turn the input array back to its original shape.(the output shape of its' previous layer).\n",
        "\n",
        "This function takes the following input:\n",
        "*   dA: the output of backward pass from the next layer, it's a 1-dimensional array."
      ]
    },
    {
      "attachments": {},
      "cell_type": "markdown",
      "metadata": {
        "id": "RYqpQu6Eye7h"
      },
      "source": [
        "# 6. Model\n",
        "Alright, now we have all the tools that are needed to build a convolutional neural network. Let's get started!\n",
        "\n",
        "1. In this part, we will call model.add( ) to add a layer into the model. For example:\n",
        "* model.add(Conv( )): add a convolution layer into the model.\n",
        "* model.add(Dense( )): add a dense layer into the model.\n",
        "* model.add(Activation( )): add an activation layer into the model.\n",
        "\n",
        "2. Because the dense layer we implemented takes the input shape as [:, m], where m represents the number of examples. However, when the training data go through the convolution layer and maxpool layer, its shape will be [m,:]. As a consequence, in the forward pass, the output of flatten.forward( ) need to be transposed. Similarly, in the backward pass, before the data goes into flatten.backward( ), it needs to be transposed again.\n"
      ]
    },
    {
      "cell_type": "code",
      "execution_count": 16,
      "metadata": {
        "id": "7dWrCCkPRQvK"
      },
      "outputs": [],
      "source": [
        "class Model():\n",
        "    def __init__(self):       \n",
        "        self.layers=[]\n",
        "\n",
        "    def add(self, layer):\n",
        "        self.layers.append(layer)\n",
        "\n",
        "    def forward(self, X):\n",
        "        A = X\n",
        "        for l in range(len(self.layers)):\n",
        "            if(self.layers[l].name==\"flatten\"):\n",
        "                A=self.layers[l].forward(A).T # Transpose after flatten layer\n",
        "            else:\n",
        "                A=self.layers[l].forward(A)\n",
        "        return A\n",
        "\n",
        "    def backward(self, AL=None, Y=None):\n",
        "        L = len(self.layers)\n",
        "\n",
        "        if self.layers[-1].name == \"sigmoid\":\n",
        "            E = 1e-5\n",
        "            dAL = - (np.divide(Y, AL + E) - np.divide(1 - Y, 1 - AL + E))\n",
        "            dZ = self.layers[-1].backward(dA=dAL)  #activation layer backward\n",
        "            dA_prev = self.layers[-2].backward(dZ) #linear layer backward\n",
        "        else:\n",
        "            dZ = self.layers[-1].backward(Y=Y)\n",
        "            dA_prev = self.layers[-2].backward(dZ)\n",
        "\n",
        "        \n",
        "        # Loop from l=L-3 to l=0\n",
        "        for l in reversed(range(L-2)):\n",
        "            if(self.layers[l].name==\"flatten\"):\n",
        "                dA_prev=self.layers[l].backward(dA_prev.T) # Transpose before goes into flatten layer\n",
        "            else:\n",
        "                dA_prev=self.layers[l].backward(dA_prev)\n",
        "\n",
        "        return dA_prev\n",
        "\n",
        "    def update(self, learning_rate):\n",
        "        \"\"\"\n",
        "        Arguments:\n",
        "        learning_rate -- step size\n",
        "        \"\"\"\n",
        "        \n",
        "        # Only convolution layer and dense layer have to update parameters\n",
        "        for l in range(len(self.layers)):\n",
        "            if self.layers[l].name == \"conv\" or self.layers[l].name == \"dense\":\n",
        "                self.layers[l].update(learning_rate)       "
      ]
    },
    {
      "attachments": {},
      "cell_type": "markdown",
      "metadata": {
        "id": "9EC0qy26RQvN"
      },
      "source": [
        "# 7. Binary classification\n",
        "\n",
        "Now we have all the tools we need to get started with classification. In this section, we will build a binary classifier using the functions we have previously written. We will create a model that can determine whether a CXR image is normal or not. There will be 600 training images and 60 testing images, and the size of all images are 32 * 32 * 1.\n",
        "\n",
        "**Instruction**:\n",
        "*   Preprocess the data by using min-max scaling to normalize X. Normalize the values of each feature between 0 and 1.\n",
        "*   Use batch gradient descent to train the model.\n",
        "\n"
      ]
    },
    {
      "cell_type": "code",
      "execution_count": null,
      "metadata": {
        "id": "zCYLUars35LF"
      },
      "outputs": [],
      "source": [
        "!unzip Training_data.zip\n",
        "!unzip Testing_data.zip"
      ]
    },
    {
      "cell_type": "markdown",
      "metadata": {
        "id": "K2X2fb7aoJTg"
      },
      "source": [
        "## 7.1 Data preprocessing"
      ]
    },
    {
      "cell_type": "code",
      "execution_count": 19,
      "metadata": {
        "colab": {
          "base_uri": "https://localhost:8080/"
        },
        "id": "QWHxt5cDZ9mg",
        "outputId": "38f8a382-5d50-44a3-91c3-6667351f47ea"
      },
      "outputs": [
        {
          "name": "stdout",
          "output_type": "stream",
          "text": [
            "Shape of X_train: (600, 32, 32, 1)\n"
          ]
        }
      ],
      "source": [
        "PATH = \"Training_data\"  #path to our training image\n",
        "file_dir = os.listdir(PATH) #read the images from the directory\n",
        "file_dir.sort() #Make sure the images are loaded in order\n",
        "X_train = np.array([])\n",
        "\n",
        "# Prepare X_train\n",
        "# The shape of X_train will be (number of examples, height of image, width of image, channel of image)\n",
        "# Use imread(PATH, IMREAD_GRAYSCALE) to load image\n",
        "\n",
        "# Load data\n",
        "l = []\n",
        "for filename in file_dir:\n",
        "  PATH = \"Training_data\" + \"/\" + filename\n",
        "  img = imread(PATH, IMREAD_GRAYSCALE)\n",
        "  img = img.reshape((img.shape[0], img.shape[1], 1))\n",
        "  l.append(img)\n",
        "X_train = np.array(l)\n",
        "print(\"Shape of X_train:\", X_train.shape)\n",
        "\n",
        "# Normalize data\n",
        "X = X_train\n",
        "min_X, max_X = X.min(axis = 0), X.max(axis = 0)\n",
        "X_train = (X - min_X) / (max_X - min_X)"
      ]
    },
    {
      "cell_type": "code",
      "execution_count": 20,
      "metadata": {
        "colab": {
          "base_uri": "https://localhost:8080/"
        },
        "id": "I527tbN2_Obg",
        "outputId": "54625531-f656-46d3-ed17-10f4c2963445"
      },
      "outputs": [
        {
          "name": "stdout",
          "output_type": "stream",
          "text": [
            "Shape of X_test: (60, 32, 32, 1)\n"
          ]
        }
      ],
      "source": [
        "PATH = \"Testing_data\"  #path to our testing image\n",
        "file_dir = os.listdir(PATH)\n",
        "file_dir.sort()\n",
        "X_test = np.array([])\n",
        "\n",
        "# Prepare X_test\n",
        "# The shape of X_teset will be (number of examples, height of image, width of image, channel of image)\n",
        "\n",
        "# Load data\n",
        "l = []\n",
        "for filename in file_dir:\n",
        "  if filename == \".ipynb_checkpoints\":\n",
        "    continue\n",
        "  PATH = \"Testing_data\" + \"/\" + filename\n",
        "  img = imread(PATH, IMREAD_GRAYSCALE)\n",
        "  img = img.reshape((img.shape[0], img.shape[1], 1))\n",
        "  l.append(img)\n",
        "X_test = np.array(l)\n",
        "print(\"Shape of X_test:\", X_test.shape)\n",
        "\n",
        "# Normalize data\n",
        "X = X_test\n",
        "min_X, max_X = X.min(axis = 0), X.max(axis = 0)\n",
        "X_test = (X - min_X) / (max_X - min_X)"
      ]
    },
    {
      "cell_type": "code",
      "execution_count": 21,
      "metadata": {
        "colab": {
          "base_uri": "https://localhost:8080/"
        },
        "id": "bxaslew_lkKY",
        "outputId": "390e2576-b8ed-4092-b4f4-709dca4286db"
      },
      "outputs": [
        {
          "name": "stdout",
          "output_type": "stream",
          "text": [
            "Shape of y_train: (600, 1)\n"
          ]
        }
      ],
      "source": [
        "data = read_csv(\"Training_label.csv\")\n",
        "\n",
        "y_train = []\n",
        "\n",
        "# Prepare y_train\n",
        "# The shape of y_train will be (number of examples, 1), we will transpose y_train latter.\n",
        "\n",
        "y_train = np.array(data[\"label\"])\n",
        "y_train = y_train.reshape((y_train.shape[0], 1))\n",
        "print(\"Shape of y_train:\", y_train.shape)"
      ]
    },
    {
      "cell_type": "code",
      "execution_count": null,
      "metadata": {
        "colab": {
          "base_uri": "https://localhost:8080/"
        },
        "id": "iwhza4gUboQ6",
        "outputId": "4fddbef3-fa71-446e-d3ca-457bd122327e"
      },
      "outputs": [],
      "source": [
        "from sklearn.model_selection import train_test_split\n",
        "\n",
        "# Split training and validation set.\n",
        "X_train, X_val, y_train, y_val = train_test_split(X_train, y_train, test_size = 0.2)"
      ]
    },
    {
      "cell_type": "code",
      "execution_count": 23,
      "metadata": {
        "colab": {
          "base_uri": "https://localhost:8080/",
          "height": 303
        },
        "id": "wKkOpp6uyCQY",
        "outputId": "b1326a33-6604-4227-e212-b471a3376f0a"
      },
      "outputs": [
        {
          "data": {
            "image/png": "[encoded data removed]",
            "text/plain": [
              "<Figure size 432x288 with 9 Axes>"
            ]
          },
          "metadata": {
            "needs_background": "light"
          },
          "output_type": "display_data"
        },
        {
          "name": "stdout",
          "output_type": "stream",
          "text": [
            "Train: X=(480, 32, 32, 1), y=(1, 480)\n",
            "Test: X=(60, 32, 32, 1)\n"
          ]
        }
      ],
      "source": [
        "y_train = y_train.T #transpose y_train\n",
        "\n",
        "# plot first few images\n",
        "for i in range(9):\n",
        "    # define subplot\n",
        "    plt.subplot(330 + 1 + i)\n",
        "    # plot raw pixel data\n",
        "    plt.imshow(X_train[i].squeeze(), cmap='gray', vmin=0, vmax=1)\n",
        "# show the figure\n",
        "plt.show()\n",
        "\n",
        "# check the shape of training data and testing data\n",
        "print('Train: X=%s, y=%s' % (X_train.shape, y_train.shape))\n",
        "print('Test: X=%s' % (X_test.shape, ))"
      ]
    },
    {
      "cell_type": "code",
      "execution_count": 24,
      "metadata": {
        "colab": {
          "base_uri": "https://localhost:8080/"
        },
        "id": "FD-H6VSj6QE0",
        "outputId": "18ee18ce-b542-4030-951a-35aa15ae1dfe"
      },
      "outputs": [
        {
          "name": "stdout",
          "output_type": "stream",
          "text": [
            "Shape of X_train: (480, 32, 32, 1)\n",
            "Shape of X_val: (120, 32, 32, 1)\n",
            "Shape of y_train: (1, 480)\n",
            "Shape of y_val: (1, 120)\n",
            "Shape of X_test: (60, 32, 32, 1)\n"
          ]
        }
      ],
      "source": [
        "y_val = y_val.T\n",
        "\n",
        "print(\"Shape of X_train:\", X_train.shape)\n",
        "print(\"Shape of X_val:\", X_val.shape)\n",
        "print(\"Shape of y_train:\", y_train.shape)\n",
        "print(\"Shape of y_val:\", y_val.shape)\n",
        "print(\"Shape of X_test:\", X_test.shape)"
      ]
    },
    {
      "cell_type": "markdown",
      "metadata": {
        "id": "qdK9_gnZAjYD"
      },
      "source": [
        "## 7.2 mini-batch gradient descent"
      ]
    },
    {
      "cell_type": "code",
      "execution_count": 25,
      "metadata": {
        "id": "LVTeqK9TqMwP"
      },
      "outputs": [],
      "source": [
        "def random_mini_batches(X, Y, mini_batch_size = 64):\n",
        "    \"\"\"\n",
        "    Creates a list of random minibatches from (X, Y)\n",
        "    \n",
        "    Arguments:\n",
        "    X -- input data, of shape !!!!!!!!!!!(number of examples ,input size)!!!!!!!!!!!\n",
        "    Y -- true \"label\" vector, of shape (number of classes, number of examples)\n",
        "    mini_batch_size -- size of the mini-batches, integer\n",
        "    \n",
        "    Returns:\n",
        "    mini_batches -- list of synchronous (mini_batch_X, mini_batch_Y)\n",
        "    \"\"\"\n",
        "    \n",
        "    m = X.shape[0]  # number of training examples\n",
        "    mini_batches = []\n",
        "        \n",
        "    # Step 1: Shuffle (X, Y)\n",
        "    permutation = list(np.random.permutation(m))\n",
        "    shuffled_X = X[permutation, :]\n",
        "    shuffled_Y = Y[:, permutation]\n",
        "    #print(\"Shape of shuffled_X:\", shuffled_X.shape)\n",
        "    #print(\"Shape of shuffled_Y:\", shuffled_Y.shape)\n",
        "    \n",
        "    inc = mini_batch_size\n",
        "\n",
        "    # Step 2 - Partition (shuffled_X, shuffled_Y).\n",
        "    # Cases with a complete mini batch size only i.e each of 64 examples.\n",
        "    num_complete_minibatches = math.floor(m / mini_batch_size) # number of mini batches of size mini_batch_size in your partitionning\n",
        "    for k in range(0, num_complete_minibatches):\n",
        "        mini_batch_X = shuffled_X[k * mini_batch_size : k * mini_batch_size + mini_batch_size, :]\n",
        "        mini_batch_Y = shuffled_Y[:, k * mini_batch_size : k * mini_batch_size + mini_batch_size]\n",
        "        mini_batch = (mini_batch_X, mini_batch_Y)\n",
        "        mini_batches.append(mini_batch)\n",
        "    \n",
        "    # For handling the end case (last mini-batch < mini_batch_size i.e less than 64)\n",
        "    if m % mini_batch_size != 0:\n",
        "        mini_batch_X = shuffled_X[num_complete_minibatches * mini_batch_size:, :]\n",
        "        mini_batch_Y = shuffled_Y[:, num_complete_minibatches * mini_batch_size:]\n",
        "        mini_batch = (mini_batch_X, mini_batch_Y)\n",
        "        mini_batches.append(mini_batch)\n",
        "    \n",
        "    \n",
        "    return mini_batches"
      ]
    },
    {
      "cell_type": "markdown",
      "metadata": {
        "id": "5FIrnqYMFGRq"
      },
      "source": [
        "## 7.3 Start training"
      ]
    },
    {
      "cell_type": "code",
      "execution_count": 26,
      "metadata": {
        "colab": {
          "base_uri": "https://localhost:8080/",
          "height": 989
        },
        "id": "1CBktduDyKd6",
        "outputId": "821fcfeb-9be0-46e3-9712-1f507022f398"
      },
      "outputs": [
        {
          "name": "stdout",
          "output_type": "stream",
          "text": [
            "epoch:  0\n",
            "Cost after iteration 0: 0.704476\n",
            "epoch:  1\n",
            "Cost after iteration 1: 0.689875\n",
            "epoch:  2\n",
            "Cost after iteration 2: 0.672959\n",
            "epoch:  3\n",
            "Cost after iteration 3: 0.644906\n",
            "epoch:  4\n",
            "Cost after iteration 4: 0.656956\n",
            "epoch:  5\n",
            "Cost after iteration 5: 0.651830\n",
            "epoch:  6\n",
            "Cost after iteration 6: 0.647264\n",
            "epoch:  7\n",
            "Cost after iteration 7: 0.659603\n",
            "epoch:  8\n",
            "Cost after iteration 8: 0.638598\n",
            "epoch:  9\n",
            "Cost after iteration 9: 0.641995\n",
            "epoch:  10\n",
            "Cost after iteration 10: 0.608200\n",
            "epoch:  11\n",
            "Cost after iteration 11: 0.624949\n",
            "epoch:  12\n",
            "Cost after iteration 12: 0.616859\n",
            "epoch:  13\n",
            "Cost after iteration 13: 0.608128\n",
            "epoch:  14\n",
            "Cost after iteration 14: 0.634578\n",
            "epoch:  15\n",
            "Cost after iteration 15: 0.584028\n",
            "epoch:  16\n",
            "Cost after iteration 16: 0.586620\n",
            "epoch:  17\n",
            "Cost after iteration 17: 0.578735\n",
            "epoch:  18\n",
            "Cost after iteration 18: 0.554827\n",
            "epoch:  19\n",
            "Cost after iteration 19: 0.584023\n"
          ]
        },
        {
          "data": {
            "image/png": "[encoded data removed]",
            "text/plain": [
              "<Figure size 432x288 with 1 Axes>"
            ]
          },
          "metadata": {
            "needs_background": "light"
          },
          "output_type": "display_data"
        }
      ],
      "source": [
        "learning_rate = 0.001\n",
        "num_iterations = 20\n",
        "batch_size = 128\n",
        "print_cost = True\n",
        "classes = 2\n",
        "costs = []   # keep track of cost\n",
        "\n",
        "\n",
        "# build the model\n",
        "model=Model()\n",
        "\n",
        "model.add(Conv(filter_size=2, input_channel=1, output_channel=16, pad=0, stride=2))\n",
        "model.add(Activation(\"relu\"))\n",
        "model.add(MaxPool(filter_size=2, stride=2))\n",
        "model.add(Conv(filter_size=4, input_channel=16, output_channel=16, pad=0, stride=2))\n",
        "model.add(Activation(\"relu\"))\n",
        "\n",
        "model.add(Flatten())\n",
        "model.add(Dense(144, 32))\n",
        "model.add(Activation(\"relu\"))\n",
        "model.add(Dense(32, 1))\n",
        "model.add(Activation(\"sigmoid\"))\n",
        "\n",
        "\n",
        "# Loop (gradient descent)\n",
        "for i in range(0, num_iterations):\n",
        "    print(\"epoch: \",i)\n",
        "    mini_batches = random_mini_batches(X_train, y_train, batch_size)\n",
        "    j=0\n",
        "    for batch in mini_batches:\n",
        "        x_batch, y_batch = batch\n",
        "\n",
        "        # forward\n",
        "        AL = model.forward(x_batch)\n",
        "\n",
        "        # compute cost\n",
        "        cost = compute_BCE_cost(AL, y_batch)\n",
        "\n",
        "        # backward\n",
        "        dA_prev = model.backward(AL, y_batch)\n",
        "\n",
        "        # update\n",
        "        model.update(learning_rate)\n",
        "    \n",
        "    print (\"Cost after iteration %i: %f\" %(i, cost))\n",
        "    costs.append(cost)\n",
        "            \n",
        "# plot the cost\n",
        "plt.plot(np.squeeze(costs))\n",
        "plt.ylabel('cost')\n",
        "plt.xlabel('iterations')\n",
        "plt.title(\"Learning rate =\" + str(learning_rate))\n",
        "plt.show()"
      ]
    },
    {
      "cell_type": "code",
      "execution_count": 27,
      "metadata": {
        "colab": {
          "base_uri": "https://localhost:8080/"
        },
        "id": "1ft4ql3F9tCi",
        "outputId": "39e8f1b9-55bc-42d4-d86f-e4e425f181d2"
      },
      "outputs": [
        {
          "name": "stdout",
          "output_type": "stream",
          "text": [
            "Accuracy: 0.7395833333333333\n",
            "Accuracy: 0.7333333333333333\n"
          ]
        }
      ],
      "source": [
        "pred_train = predict(X_train, y_train, model, 2)\n",
        "pred_val = predict(X_val, y_val, model, 2)"
      ]
    },
    {
      "cell_type": "code",
      "execution_count": 28,
      "metadata": {
        "id": "1hIZQOfGAPJJ"
      },
      "outputs": [],
      "source": [
        "pred_test = predict(X_test, None, model, 2)"
      ]
    },
    {
      "attachments": {},
      "cell_type": "markdown",
      "metadata": {
        "id": "rrrYp1RwSIOh"
      },
      "source": [
        "# 8. Advanced implementation\n",
        "In this part, we will practice how to build a model by **Tensorflow**, and we finally can use GPU to accelerate the training process.\n",
        "\n",
        "We will implement a binary classifier by Tensorflow."
      ]
    },
    {
      "cell_type": "code",
      "execution_count": 29,
      "metadata": {
        "id": "PDyxdy9Jk982"
      },
      "outputs": [],
      "source": [
        "import tensorflow as tf\n",
        "from tensorflow.keras import layers, models"
      ]
    },
    {
      "cell_type": "code",
      "execution_count": 30,
      "metadata": {
        "id": "hhAjQTjPk-I0"
      },
      "outputs": [],
      "source": [
        "### Data preprocess & augmentation ###\n",
        "\n",
        "y_train = y_train.T; y_val = y_val.T"
      ]
    },
    {
      "cell_type": "code",
      "execution_count": 31,
      "metadata": {
        "id": "5O6R4txb6sCj"
      },
      "outputs": [],
      "source": [
        "data_augmentation = tf.keras.Sequential([\n",
        "    layers.experimental.preprocessing.RandomFlip(\"horizontal_and_vertical\"),\n",
        "    layers.experimental.preprocessing.RandomRotation(0.2),\n",
        "])"
      ]
    },
    {
      "cell_type": "code",
      "execution_count": 32,
      "metadata": {
        "colab": {
          "base_uri": "https://localhost:8080/"
        },
        "id": "PgL3loUQk-LO",
        "outputId": "ea1cd2a8-0878-4fee-98f4-e0d29e296776"
      },
      "outputs": [
        {
          "name": "stdout",
          "output_type": "stream",
          "text": [
            "Epoch 1/20\n",
            "15/15 [==============================] - 3s 55ms/step - loss: 0.6937 - accuracy: 0.5063 - val_loss: 0.6904 - val_accuracy: 0.6583\n",
            "Epoch 2/20\n",
            "15/15 [==============================] - 1s 36ms/step - loss: 0.6881 - accuracy: 0.5583 - val_loss: 0.6812 - val_accuracy: 0.7667\n",
            "Epoch 3/20\n",
            "15/15 [==============================] - 1s 35ms/step - loss: 0.6682 - accuracy: 0.6917 - val_loss: 0.6172 - val_accuracy: 0.7333\n",
            "Epoch 4/20\n",
            "15/15 [==============================] - 1s 37ms/step - loss: 0.5867 - accuracy: 0.7229 - val_loss: 0.5474 - val_accuracy: 0.7333\n",
            "Epoch 5/20\n",
            "15/15 [==============================] - 1s 36ms/step - loss: 0.6175 - accuracy: 0.6729 - val_loss: 0.7381 - val_accuracy: 0.5250\n",
            "Epoch 6/20\n",
            "15/15 [==============================] - 1s 35ms/step - loss: 0.5569 - accuracy: 0.7417 - val_loss: 0.5759 - val_accuracy: 0.7417\n",
            "Epoch 7/20\n",
            "15/15 [==============================] - 1s 36ms/step - loss: 0.5305 - accuracy: 0.7667 - val_loss: 0.7161 - val_accuracy: 0.6417\n",
            "Epoch 8/20\n",
            "15/15 [==============================] - 1s 35ms/step - loss: 0.5180 - accuracy: 0.7667 - val_loss: 0.5460 - val_accuracy: 0.7667\n",
            "Epoch 9/20\n",
            "15/15 [==============================] - 1s 35ms/step - loss: 0.5020 - accuracy: 0.7667 - val_loss: 0.5547 - val_accuracy: 0.7583\n",
            "Epoch 10/20\n",
            "15/15 [==============================] - 1s 35ms/step - loss: 0.5264 - accuracy: 0.7625 - val_loss: 0.5125 - val_accuracy: 0.8000\n",
            "Epoch 11/20\n",
            "15/15 [==============================] - 1s 35ms/step - loss: 0.5046 - accuracy: 0.7750 - val_loss: 0.5154 - val_accuracy: 0.8000\n",
            "Epoch 12/20\n",
            "15/15 [==============================] - 1s 35ms/step - loss: 0.4862 - accuracy: 0.8000 - val_loss: 0.5146 - val_accuracy: 0.7917\n",
            "Epoch 13/20\n",
            "15/15 [==============================] - 1s 36ms/step - loss: 0.4944 - accuracy: 0.7812 - val_loss: 0.5006 - val_accuracy: 0.8000\n",
            "Epoch 14/20\n",
            "15/15 [==============================] - 1s 34ms/step - loss: 0.4912 - accuracy: 0.8000 - val_loss: 0.5073 - val_accuracy: 0.7750\n",
            "Epoch 15/20\n",
            "15/15 [==============================] - 1s 36ms/step - loss: 0.4911 - accuracy: 0.8000 - val_loss: 0.5105 - val_accuracy: 0.7833\n",
            "Epoch 16/20\n",
            "15/15 [==============================] - 1s 35ms/step - loss: 0.4867 - accuracy: 0.7979 - val_loss: 0.5417 - val_accuracy: 0.7917\n",
            "Epoch 17/20\n",
            "15/15 [==============================] - 1s 36ms/step - loss: 0.4725 - accuracy: 0.8062 - val_loss: 0.5250 - val_accuracy: 0.7833\n",
            "Epoch 18/20\n",
            "15/15 [==============================] - 1s 37ms/step - loss: 0.4848 - accuracy: 0.8083 - val_loss: 0.5151 - val_accuracy: 0.7750\n",
            "Epoch 19/20\n",
            "15/15 [==============================] - 1s 36ms/step - loss: 0.4735 - accuracy: 0.8146 - val_loss: 0.5114 - val_accuracy: 0.7833\n",
            "Epoch 20/20\n",
            "15/15 [==============================] - 1s 35ms/step - loss: 0.4860 - accuracy: 0.8062 - val_loss: 0.5156 - val_accuracy: 0.7833\n"
          ]
        }
      ],
      "source": [
        "### Start training ###\n",
        "\n",
        "model = models.Sequential()\n",
        "\n",
        "model.add(data_augmentation)\n",
        "\n",
        "model.add(layers.Conv2D(8, (3, 3), activation=\"relu\", padding=\"same\", input_shape=(32, 32, 1)))\n",
        "model.add(layers.MaxPooling2D((2, 2)))\n",
        "model.add(layers.Conv2D(16, (3, 3), activation=\"relu\", padding=\"same\"))\n",
        "model.add(layers.MaxPooling2D((2, 2)))\n",
        "model.add(layers.Conv2D(32, (3, 3), activation=\"relu\", padding=\"same\"))\n",
        "model.add(layers.MaxPooling2D((2, 2)))\n",
        "model.add(layers.Conv2D(64, (3, 3), activation=\"relu\", padding=\"same\"))\n",
        "model.add(layers.MaxPooling2D((2, 2)))\n",
        "\n",
        "model.add(layers.Flatten())\n",
        "model.add(layers.Dense(128, activation=\"relu\"))\n",
        "model.add(layers.Dense(64, activation=\"relu\"))\n",
        "model.add(layers.Dense(1, activation=\"sigmoid\"))\n",
        "\n",
        "model.compile(optimizer=\"adam\", loss=\"binary_crossentropy\", metrics=[\"accuracy\"])\n",
        "\n",
        "history = model.fit(X_train, y_train, epochs=20, validation_data=(X_val, y_val))"
      ]
    },
    {
      "cell_type": "code",
      "execution_count": 33,
      "metadata": {
        "colab": {
          "base_uri": "https://localhost:8080/",
          "height": 300
        },
        "id": "0rV2ziQZuNZW",
        "outputId": "0139777c-3ecd-4075-9fb6-ca7d5f9333cc"
      },
      "outputs": [
        {
          "data": {
            "text/plain": [
              "<matplotlib.legend.Legend at 0x7f8d1cc0c070>"
            ]
          },
          "execution_count": 33,
          "metadata": {},
          "output_type": "execute_result"
        },
        {
          "data": {
            "image/png": "[encoded data removed]",
            "text/plain": [
              "<Figure size 432x288 with 1 Axes>"
            ]
          },
          "metadata": {
            "needs_background": "light"
          },
          "output_type": "display_data"
        }
      ],
      "source": [
        "# Plot Accuracy\n",
        "plt.plot(history.history['accuracy'], label='accuracy')\n",
        "plt.plot(history.history['val_accuracy'], label = 'val_accuracy')\n",
        "plt.xlabel('Epoch')\n",
        "plt.ylabel('Accuracy')\n",
        "plt.ylim([0.4, 1.0])\n",
        "plt.legend(loc='lower right')"
      ]
    },
    {
      "cell_type": "code",
      "execution_count": 34,
      "metadata": {
        "colab": {
          "base_uri": "https://localhost:8080/"
        },
        "id": "BqL2Fe2lObEx",
        "outputId": "2911a786-d3cc-4513-b944-4984649f6b98"
      },
      "outputs": [
        {
          "name": "stdout",
          "output_type": "stream",
          "text": [
            "Training Accuracy: 0.8166666626930237\n",
            "Validation Accuracy: 0.7833333611488342\n"
          ]
        }
      ],
      "source": [
        "train_loss, train_accuracy = model.evaluate(X_train, y_train, verbose=0)\n",
        "print(\"Training Accuracy:\", train_accuracy)\n",
        "val_loss, val_accuracy = model.evaluate(X_val, y_val, verbose=0)\n",
        "print(\"Validation Accuracy:\", val_accuracy)"
      ]
    },
    {
      "cell_type": "code",
      "execution_count": 35,
      "metadata": {
        "colab": {
          "base_uri": "https://localhost:8080/"
        },
        "id": "pObMJ67hk-Ov",
        "outputId": "ac4308b7-dcfd-4b16-d03e-1a505d6820bd"
      },
      "outputs": [
        {
          "name": "stdout",
          "output_type": "stream",
          "text": [
            "2/2 [==============================] - 0s 13ms/step\n"
          ]
        }
      ],
      "source": [
        "pred_test = model.predict(X_test)\n",
        "pred_test = [1 if i > 0.5 else 0 for i in pred_test]\n",
        "pred_test = np.rint(pred_test)"
      ]
    },
    {
      "cell_type": "markdown",
      "metadata": {
        "id": "hFOBPJBl9ChH"
      },
      "source": [
        "# Linear model"
      ]
    },
    {
      "cell_type": "code",
      "execution_count": 39,
      "metadata": {
        "colab": {
          "base_uri": "https://localhost:8080/"
        },
        "id": "rnS47DMM9GYo",
        "outputId": "431d95a5-96a7-4bea-9e98-5affeee567ff"
      },
      "outputs": [
        {
          "name": "stdout",
          "output_type": "stream",
          "text": [
            "Epoch 1/20\n",
            "15/15 [==============================] - 1s 16ms/step - loss: 0.7552 - accuracy: 0.5292 - val_loss: 0.5756 - val_accuracy: 0.7000\n",
            "Epoch 2/20\n",
            "15/15 [==============================] - 0s 5ms/step - loss: 0.5645 - accuracy: 0.7417 - val_loss: 0.4827 - val_accuracy: 0.8000\n",
            "Epoch 3/20\n",
            "15/15 [==============================] - 0s 5ms/step - loss: 0.4919 - accuracy: 0.7750 - val_loss: 0.4576 - val_accuracy: 0.8083\n",
            "Epoch 4/20\n",
            "15/15 [==============================] - 0s 7ms/step - loss: 0.4911 - accuracy: 0.7875 - val_loss: 0.4608 - val_accuracy: 0.8000\n",
            "Epoch 5/20\n",
            "15/15 [==============================] - 0s 5ms/step - loss: 0.4414 - accuracy: 0.8083 - val_loss: 0.4734 - val_accuracy: 0.7667\n",
            "Epoch 6/20\n",
            "15/15 [==============================] - 0s 6ms/step - loss: 0.4655 - accuracy: 0.7917 - val_loss: 0.4614 - val_accuracy: 0.7750\n",
            "Epoch 7/20\n",
            "15/15 [==============================] - 0s 5ms/step - loss: 0.4373 - accuracy: 0.8188 - val_loss: 0.4566 - val_accuracy: 0.7750\n",
            "Epoch 8/20\n",
            "15/15 [==============================] - 0s 6ms/step - loss: 0.4241 - accuracy: 0.8250 - val_loss: 0.4546 - val_accuracy: 0.7750\n",
            "Epoch 9/20\n",
            "15/15 [==============================] - 0s 5ms/step - loss: 0.4133 - accuracy: 0.8292 - val_loss: 0.4596 - val_accuracy: 0.7750\n",
            "Epoch 10/20\n",
            "15/15 [==============================] - 0s 6ms/step - loss: 0.4425 - accuracy: 0.8042 - val_loss: 0.5274 - val_accuracy: 0.7417\n",
            "Epoch 11/20\n",
            "15/15 [==============================] - 0s 7ms/step - loss: 0.4267 - accuracy: 0.8125 - val_loss: 0.4617 - val_accuracy: 0.7667\n",
            "Epoch 12/20\n",
            "15/15 [==============================] - 0s 5ms/step - loss: 0.4090 - accuracy: 0.8375 - val_loss: 0.4791 - val_accuracy: 0.7833\n",
            "Epoch 13/20\n",
            "15/15 [==============================] - 0s 6ms/step - loss: 0.4200 - accuracy: 0.8208 - val_loss: 0.5110 - val_accuracy: 0.7667\n",
            "Epoch 14/20\n",
            "15/15 [==============================] - 0s 6ms/step - loss: 0.4359 - accuracy: 0.8146 - val_loss: 0.5630 - val_accuracy: 0.7417\n",
            "Epoch 15/20\n",
            "15/15 [==============================] - 0s 6ms/step - loss: 0.3853 - accuracy: 0.8521 - val_loss: 0.4706 - val_accuracy: 0.7833\n",
            "Epoch 16/20\n",
            "15/15 [==============================] - 0s 5ms/step - loss: 0.4067 - accuracy: 0.8208 - val_loss: 0.4623 - val_accuracy: 0.7750\n",
            "Epoch 17/20\n",
            "15/15 [==============================] - 0s 8ms/step - loss: 0.4109 - accuracy: 0.8354 - val_loss: 0.4768 - val_accuracy: 0.7667\n",
            "Epoch 18/20\n",
            "15/15 [==============================] - 0s 6ms/step - loss: 0.3842 - accuracy: 0.8271 - val_loss: 0.4558 - val_accuracy: 0.7833\n",
            "Epoch 19/20\n",
            "15/15 [==============================] - 0s 6ms/step - loss: 0.3782 - accuracy: 0.8458 - val_loss: 0.4645 - val_accuracy: 0.7750\n",
            "Epoch 20/20\n",
            "15/15 [==============================] - 0s 5ms/step - loss: 0.3749 - accuracy: 0.8604 - val_loss: 0.4651 - val_accuracy: 0.7750\n"
          ]
        }
      ],
      "source": [
        "model2 = models.Sequential()\n",
        "\n",
        "model2.add(layers.Flatten(input_shape=(32, 32, 1)))\n",
        "model2.add(layers.Dense(128, activation=\"relu\"))\n",
        "model2.add(layers.Dense(64, activation=\"relu\"))\n",
        "model2.add(layers.Dense(1, activation=\"sigmoid\"))\n",
        "\n",
        "model2.compile(optimizer=\"adam\", loss=\"binary_crossentropy\", metrics=[\"accuracy\"])\n",
        "\n",
        "history = model2.fit(X_train, y_train, epochs=20, validation_data=(X_val, y_val))"
      ]
    },
    {
      "cell_type": "code",
      "execution_count": 40,
      "metadata": {
        "colab": {
          "base_uri": "https://localhost:8080/",
          "height": 300
        },
        "id": "HaqgwFmX9QgU",
        "outputId": "4a1c560b-3622-4502-830b-553c2f1af4a9"
      },
      "outputs": [
        {
          "data": {
            "text/plain": [
              "<matplotlib.legend.Legend at 0x7f8d2038ec70>"
            ]
          },
          "execution_count": 40,
          "metadata": {},
          "output_type": "execute_result"
        },
        {
          "data": {
            "image/png": "[encoded data removed]",
            "text/plain": [
              "<Figure size 432x288 with 1 Axes>"
            ]
          },
          "metadata": {
            "needs_background": "light"
          },
          "output_type": "display_data"
        }
      ],
      "source": [
        "# Plot Accuracy\n",
        "plt.plot(history.history['accuracy'], label='accuracy')\n",
        "plt.plot(history.history['val_accuracy'], label = 'val_accuracy')\n",
        "plt.xlabel('Epoch')\n",
        "plt.ylabel('Accuracy')\n",
        "plt.ylim([0.4, 1.0])\n",
        "plt.legend(loc='lower right')"
      ]
    },
    {
      "cell_type": "code",
      "execution_count": 41,
      "metadata": {
        "colab": {
          "base_uri": "https://localhost:8080/"
        },
        "id": "ZlBl81tVNs_g",
        "outputId": "e5e82d0f-a8c8-4694-873c-6372115b951d"
      },
      "outputs": [
        {
          "name": "stdout",
          "output_type": "stream",
          "text": [
            "Training Accuracy: 0.8645833134651184\n",
            "Validation Accuracy: 0.7749999761581421\n"
          ]
        }
      ],
      "source": [
        "train_loss, train_accuracy = model2.evaluate(X_train, y_train, verbose=0)\n",
        "print(\"Training Accuracy:\", train_accuracy)\n",
        "val_loss, val_accuracy = model2.evaluate(X_val, y_val, verbose=0)\n",
        "print(\"Validation Accuracy:\", val_accuracy)"
      ]
    }
  ],
  "metadata": {
    "colab": {
      "collapsed_sections": [
        "K2X2fb7aoJTg",
        "qdK9_gnZAjYD"
      ],
      "provenance": []
    },
    "kernelspec": {
      "display_name": "Python 3 (ipykernel)",
      "language": "python",
      "name": "python3"
    },
    "language_info": {
      "codemirror_mode": {
        "name": "ipython",
        "version": 3
      },
      "file_extension": ".py",
      "mimetype": "text/x-python",
      "name": "python",
      "nbconvert_exporter": "python",
      "pygments_lexer": "ipython3",
      "version": "3.9.13"
    }
  },
  "nbformat": 4,
  "nbformat_minor": 0
}
