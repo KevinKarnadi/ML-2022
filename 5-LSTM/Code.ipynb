{
  "cells": [
    {
      "cell_type": "code",
      "execution_count": null,
      "metadata": {
        "colab": {
          "base_uri": "https://localhost:8080/"
        },
        "id": "02ixxyXJQRNO",
        "outputId": "81c1fc54-26e4-40d8-eca8-162c20855244"
      },
      "outputs": [],
      "source": [
        "from google.colab import drive\n",
        "import os\n",
        "drive.mount('/content/drive')"
      ]
    },
    {
      "cell_type": "code",
      "execution_count": 3,
      "metadata": {
        "id": "cwb1U7JElJPa"
      },
      "outputs": [],
      "source": [
        "os.chdir('/content/drive/MyDrive')"
      ]
    },
    {
      "attachments": {},
      "cell_type": "markdown",
      "metadata": {
        "id": "CQX9eCfIcRAn"
      },
      "source": [
        "# **EEG Brain Signal Classification**\n",
        "\n",
        "Implement LSTM and EEGNet models to predict the label of each samples."
      ]
    },
    {
      "cell_type": "code",
      "execution_count": 4,
      "metadata": {
        "id": "BKJDTLRvQrnY"
      },
      "outputs": [],
      "source": [
        "import numpy as np\n",
        "import os\n",
        "import math\n",
        "import csv\n",
        "import matplotlib.pyplot as plt\n",
        "\n",
        "# Import the packages you need here\n",
        "from tensorflow import keras\n",
        "from tensorflow.keras import layers, models, optimizers, losses"
      ]
    },
    {
      "cell_type": "code",
      "execution_count": 5,
      "metadata": {
        "id": "ZQQylnWHQ4yy"
      },
      "outputs": [],
      "source": [
        "data = np.load('data.npz')\n",
        "label = np.load('label.npz')"
      ]
    },
    {
      "cell_type": "code",
      "execution_count": 6,
      "metadata": {
        "id": "3Ype-nIkQ-bf"
      },
      "outputs": [],
      "source": [
        "X_train = data['X_train']\n",
        "X_val = data['X_val']\n",
        "X_test = data['X_test']\n",
        "\n",
        "Y_train = label['Y_train']\n",
        "Y_val = label['Y_val']"
      ]
    },
    {
      "cell_type": "code",
      "execution_count": 7,
      "metadata": {
        "colab": {
          "base_uri": "https://localhost:8080/"
        },
        "id": "xjPvKG_im7mV",
        "outputId": "c4275783-79fa-490a-d70a-526488aad81d"
      },
      "outputs": [
        {
          "data": {
            "text/plain": [
              "((604, 22, 200), (152, 22, 200), (190, 22, 200))"
            ]
          },
          "execution_count": 7,
          "metadata": {},
          "output_type": "execute_result"
        }
      ],
      "source": [
        "X_train.shape, X_val.shape, X_test.shape"
      ]
    },
    {
      "cell_type": "code",
      "execution_count": 8,
      "metadata": {
        "colab": {
          "base_uri": "https://localhost:8080/"
        },
        "id": "X7apA2_-lBjF",
        "outputId": "73408ab4-de63-4cbb-bdeb-b3a3b3ad4977"
      },
      "outputs": [
        {
          "data": {
            "text/plain": [
              "((604, 1), (152, 1))"
            ]
          },
          "execution_count": 8,
          "metadata": {},
          "output_type": "execute_result"
        }
      ],
      "source": [
        "Y_train.shape, Y_val.shape"
      ]
    },
    {
      "cell_type": "code",
      "execution_count": 9,
      "metadata": {
        "id": "IwY4FcS8C91e"
      },
      "outputs": [],
      "source": [
        "n_channels = X_train.shape[1]\n",
        "time_points = X_train.shape[2]\n",
        "input_shape = (n_channels, time_points)"
      ]
    },
    {
      "cell_type": "markdown",
      "metadata": {
        "id": "diYYd3e7eopi"
      },
      "source": [
        "## Model Implementation Part"
      ]
    },
    {
      "cell_type": "markdown",
      "metadata": {
        "id": "97BpHWOAevWJ"
      },
      "source": [
        "### LSTM"
      ]
    },
    {
      "cell_type": "code",
      "execution_count": 10,
      "metadata": {
        "colab": {
          "base_uri": "https://localhost:8080/"
        },
        "id": "xxFGe6YRe7qn",
        "outputId": "90dcc1b5-85e3-41d9-e9df-2cb7de95745e"
      },
      "outputs": [
        {
          "name": "stdout",
          "output_type": "stream",
          "text": [
            "Model: \"sequential\"\n",
            "_________________________________________________________________\n",
            " Layer (type)                Output Shape              Param #   \n",
            "=================================================================\n",
            " lstm (LSTM)                 (None, 1000)              4804000   \n",
            "                                                                 \n",
            " dense (Dense)               (None, 6)                 6006      \n",
            "                                                                 \n",
            "=================================================================\n",
            "Total params: 4,810,006\n",
            "Trainable params: 4,810,006\n",
            "Non-trainable params: 0\n",
            "_________________________________________________________________\n"
          ]
        }
      ],
      "source": [
        "# Build your model here:\n",
        "\n",
        "model1 = models.Sequential()\n",
        "\n",
        "model1.add(layers.LSTM(1000, input_shape=input_shape, return_sequences=False))\n",
        "model1.add(layers.Dense(6, activation='softmax'))\n",
        "\n",
        "model1.summary()"
      ]
    },
    {
      "cell_type": "code",
      "execution_count": 11,
      "metadata": {
        "id": "_r8u0mnxxG4Q"
      },
      "outputs": [],
      "source": [
        "optimizer = optimizers.Adam()\n",
        "loss = losses.SparseCategoricalCrossentropy()\n",
        "model1.compile(optimizer=optimizer, loss=loss, metrics=[\"accuracy\"])"
      ]
    },
    {
      "cell_type": "code",
      "execution_count": 12,
      "metadata": {
        "colab": {
          "base_uri": "https://localhost:8080/"
        },
        "id": "6-hBB03Bvyac",
        "outputId": "cb37a6e2-43b8-4d4f-e469-a34551e283b9"
      },
      "outputs": [
        {
          "name": "stdout",
          "output_type": "stream",
          "text": [
            "Epoch 1/20\n",
            "19/19 [==============================] - 8s 43ms/step - loss: 1.0496 - accuracy: 0.5646 - val_loss: 0.6195 - val_accuracy: 0.7697\n",
            "Epoch 2/20\n",
            "19/19 [==============================] - 0s 14ms/step - loss: 0.2432 - accuracy: 0.9305 - val_loss: 0.4301 - val_accuracy: 0.8026\n",
            "Epoch 3/20\n",
            "19/19 [==============================] - 0s 14ms/step - loss: 0.0361 - accuracy: 0.9983 - val_loss: 0.4234 - val_accuracy: 0.8487\n",
            "Epoch 4/20\n",
            "19/19 [==============================] - 0s 14ms/step - loss: 0.0081 - accuracy: 1.0000 - val_loss: 0.3872 - val_accuracy: 0.8553\n",
            "Epoch 5/20\n",
            "19/19 [==============================] - 0s 14ms/step - loss: 0.0030 - accuracy: 1.0000 - val_loss: 0.3656 - val_accuracy: 0.8618\n",
            "Epoch 6/20\n",
            "19/19 [==============================] - 0s 16ms/step - loss: 0.0017 - accuracy: 1.0000 - val_loss: 0.3721 - val_accuracy: 0.8684\n",
            "Epoch 7/20\n",
            "19/19 [==============================] - 0s 14ms/step - loss: 0.0013 - accuracy: 1.0000 - val_loss: 0.3752 - val_accuracy: 0.8618\n",
            "Epoch 8/20\n",
            "19/19 [==============================] - 0s 16ms/step - loss: 9.9873e-04 - accuracy: 1.0000 - val_loss: 0.3789 - val_accuracy: 0.8487\n",
            "Epoch 9/20\n",
            "19/19 [==============================] - 0s 14ms/step - loss: 8.3309e-04 - accuracy: 1.0000 - val_loss: 0.3820 - val_accuracy: 0.8487\n",
            "Epoch 10/20\n",
            "19/19 [==============================] - 0s 14ms/step - loss: 7.0933e-04 - accuracy: 1.0000 - val_loss: 0.3820 - val_accuracy: 0.8618\n",
            "Epoch 11/20\n",
            "19/19 [==============================] - 0s 14ms/step - loss: 6.1228e-04 - accuracy: 1.0000 - val_loss: 0.3839 - val_accuracy: 0.8618\n",
            "Epoch 12/20\n",
            "19/19 [==============================] - 0s 15ms/step - loss: 5.3449e-04 - accuracy: 1.0000 - val_loss: 0.3859 - val_accuracy: 0.8618\n",
            "Epoch 13/20\n",
            "19/19 [==============================] - 0s 14ms/step - loss: 4.7069e-04 - accuracy: 1.0000 - val_loss: 0.3875 - val_accuracy: 0.8618\n",
            "Epoch 14/20\n",
            "19/19 [==============================] - 0s 14ms/step - loss: 4.1888e-04 - accuracy: 1.0000 - val_loss: 0.3887 - val_accuracy: 0.8684\n",
            "Epoch 15/20\n",
            "19/19 [==============================] - 0s 14ms/step - loss: 3.7494e-04 - accuracy: 1.0000 - val_loss: 0.3901 - val_accuracy: 0.8684\n",
            "Epoch 16/20\n",
            "19/19 [==============================] - 0s 16ms/step - loss: 3.3825e-04 - accuracy: 1.0000 - val_loss: 0.3914 - val_accuracy: 0.8684\n",
            "Epoch 17/20\n",
            "19/19 [==============================] - 0s 14ms/step - loss: 3.0615e-04 - accuracy: 1.0000 - val_loss: 0.3924 - val_accuracy: 0.8684\n",
            "Epoch 18/20\n",
            "19/19 [==============================] - 0s 14ms/step - loss: 2.7902e-04 - accuracy: 1.0000 - val_loss: 0.3935 - val_accuracy: 0.8684\n",
            "Epoch 19/20\n",
            "19/19 [==============================] - 0s 14ms/step - loss: 2.5542e-04 - accuracy: 1.0000 - val_loss: 0.3940 - val_accuracy: 0.8684\n",
            "Epoch 20/20\n",
            "19/19 [==============================] - 0s 15ms/step - loss: 2.3460e-04 - accuracy: 1.0000 - val_loss: 0.3949 - val_accuracy: 0.8684\n"
          ]
        }
      ],
      "source": [
        "n_epochs = 20\n",
        "history1 = model1.fit(X_train, Y_train, validation_data=(X_val, Y_val), epochs=n_epochs)"
      ]
    },
    {
      "cell_type": "code",
      "execution_count": 34,
      "metadata": {
        "colab": {
          "base_uri": "https://localhost:8080/"
        },
        "id": "7KIwFj4YxDUr",
        "outputId": "b2c27670-c2cf-4d03-9076-5b6c3d200236"
      },
      "outputs": [
        {
          "name": "stdout",
          "output_type": "stream",
          "text": [
            "Train Accuracy: 1.0\n",
            "Val Accuracy: 0.8684210777282715\n"
          ]
        }
      ],
      "source": [
        "train_loss1, train_acc1 = model1.evaluate(X_train, Y_train, verbose=0)\n",
        "val_loss1, val_acc1 = model1.evaluate(X_val, Y_val, verbose=0)\n",
        "print(\"Train Accuracy:\", train_acc1)\n",
        "print(\"Val Accuracy:\", val_acc1)"
      ]
    },
    {
      "cell_type": "code",
      "execution_count": 13,
      "metadata": {
        "colab": {
          "base_uri": "https://localhost:8080/",
          "height": 312
        },
        "id": "wBBbCchpN_-z",
        "outputId": "14ad02ea-7d29-4338-f45f-9d87b29e87e3"
      },
      "outputs": [
        {
          "data": {
            "text/plain": [
              "<matplotlib.legend.Legend at 0x7f91a0030fa0>"
            ]
          },
          "execution_count": 13,
          "metadata": {},
          "output_type": "execute_result"
        },
        {
          "data": {
            "image/png": "[encoded data removed]",
            "text/plain": [
              "<Figure size 432x288 with 1 Axes>"
            ]
          },
          "metadata": {
            "needs_background": "light"
          },
          "output_type": "display_data"
        }
      ],
      "source": [
        "plt.plot(history1.history['accuracy'], label='Train Accuracy')\n",
        "plt.plot(history1.history['val_accuracy'], label='Val Accuracy')\n",
        "plt.title('Training and Validation Accuracy')\n",
        "plt.xlabel('Epoch')\n",
        "plt.ylabel('Accuracy')\n",
        "plt.legend(loc='lower right')"
      ]
    },
    {
      "cell_type": "code",
      "execution_count": 14,
      "metadata": {
        "colab": {
          "base_uri": "https://localhost:8080/",
          "height": 312
        },
        "id": "mMqdyaHGOxO8",
        "outputId": "f9abc25f-ef9d-4ea9-9f90-ad14f2788232"
      },
      "outputs": [
        {
          "data": {
            "text/plain": [
              "<matplotlib.legend.Legend at 0x7f91466ca100>"
            ]
          },
          "execution_count": 14,
          "metadata": {},
          "output_type": "execute_result"
        },
        {
          "data": {
            "image/png": "[encoded data removed]",
            "text/plain": [
              "<Figure size 432x288 with 1 Axes>"
            ]
          },
          "metadata": {
            "needs_background": "light"
          },
          "output_type": "display_data"
        }
      ],
      "source": [
        "plt.plot(history1.history['loss'], label='Train Loss')\n",
        "plt.plot(history1.history['val_loss'], label='Val Loss')\n",
        "plt.title('Training and Validation Loss')\n",
        "plt.xlabel('Epoch')\n",
        "plt.ylabel('Loss')\n",
        "plt.legend(loc='upper right')"
      ]
    },
    {
      "cell_type": "code",
      "execution_count": 15,
      "metadata": {
        "colab": {
          "base_uri": "https://localhost:8080/"
        },
        "id": "sIXH_6BHjm6w",
        "outputId": "5a86129a-b91a-4f93-f809-62e16bc52171"
      },
      "outputs": [
        {
          "name": "stdout",
          "output_type": "stream",
          "text": [
            "6/6 [==============================] - 0s 7ms/step\n"
          ]
        }
      ],
      "source": [
        "output1 = model1.predict(X_test)\n",
        "output1 = np.argmax(output1, axis=1).reshape(-1, 1)\n",
        "assert(output1.shape == (190, 1))\n",
        "np.savetxt('lstm_output.csv', output1, delimiter=\",\")"
      ]
    },
    {
      "cell_type": "markdown",
      "metadata": {
        "id": "xSGZPbDHrfOr"
      },
      "source": [
        "### EEGNet"
      ]
    },
    {
      "cell_type": "code",
      "execution_count": 24,
      "metadata": {
        "colab": {
          "base_uri": "https://localhost:8080/"
        },
        "id": "OCUyBSH1hvqG",
        "outputId": "ec2bd6f0-d4e7-4b41-9aae-41e1d315de51"
      },
      "outputs": [
        {
          "name": "stdout",
          "output_type": "stream",
          "text": [
            "Model: \"model_3\"\n",
            "_________________________________________________________________\n",
            " Layer (type)                Output Shape              Param #   \n",
            "=================================================================\n",
            " input_4 (InputLayer)        [(None, 22, 200, 1)]      0         \n",
            "                                                                 \n",
            " conv2d_3 (Conv2D)           (None, 22, 200, 8)        512       \n",
            "                                                                 \n",
            " batch_normalization_9 (Batc  (None, 22, 200, 8)       32        \n",
            " hNormalization)                                                 \n",
            "                                                                 \n",
            " depthwise_conv2d_3 (Depthwi  (None, 1, 200, 16)       352       \n",
            " seConv2D)                                                       \n",
            "                                                                 \n",
            " batch_normalization_10 (Bat  (None, 1, 200, 16)       64        \n",
            " chNormalization)                                                \n",
            "                                                                 \n",
            " activation_6 (Activation)   (None, 1, 200, 16)        0         \n",
            "                                                                 \n",
            " average_pooling2d_6 (Averag  (None, 1, 50, 16)        0         \n",
            " ePooling2D)                                                     \n",
            "                                                                 \n",
            " dropout_6 (Dropout)         (None, 1, 50, 16)         0         \n",
            "                                                                 \n",
            " separable_conv2d_3 (Separab  (None, 1, 50, 16)        512       \n",
            " leConv2D)                                                       \n",
            "                                                                 \n",
            " batch_normalization_11 (Bat  (None, 1, 50, 16)        64        \n",
            " chNormalization)                                                \n",
            "                                                                 \n",
            " activation_7 (Activation)   (None, 1, 50, 16)         0         \n",
            "                                                                 \n",
            " average_pooling2d_7 (Averag  (None, 1, 6, 16)         0         \n",
            " ePooling2D)                                                     \n",
            "                                                                 \n",
            " dropout_7 (Dropout)         (None, 1, 6, 16)          0         \n",
            "                                                                 \n",
            " flatten (Flatten)           (None, 96)                0         \n",
            "                                                                 \n",
            " dense (Dense)               (None, 6)                 582       \n",
            "                                                                 \n",
            " softmax (Activation)        (None, 6)                 0         \n",
            "                                                                 \n",
            "=================================================================\n",
            "Total params: 2,118\n",
            "Trainable params: 2,038\n",
            "Non-trainable params: 80\n",
            "_________________________________________________________________\n"
          ]
        }
      ],
      "source": [
        "# Build your model here:\n",
        "\n",
        "from tensorflow.keras.constraints import max_norm\n",
        "\n",
        "def EEGNet(nb_classes, Chans = 64, Samples = 128, \n",
        "           kernLength = 64, dropoutRate = 0.5, norm_rate = 0.25, \n",
        "           F1 = 8, D = 2, F2 = 16):\n",
        "    \n",
        "    input     = layers.Input(shape = (Chans, Samples, 1))\n",
        "    \n",
        "    block1    = layers.Conv2D(F1, (1, kernLength), padding = 'same', input_shape = (Chans, Samples, 1), use_bias = False)(input)\n",
        "    block1    = layers.BatchNormalization()(block1)\n",
        "    block1    = layers.DepthwiseConv2D((Chans, 1), use_bias = False, depth_multiplier = D, depthwise_constraint = max_norm(1.))(block1)\n",
        "    block1    = layers.BatchNormalization()(block1)\n",
        "    block1    = layers.Activation('elu')(block1)\n",
        "    block1    = layers.AveragePooling2D((1, 4))(block1)\n",
        "    block1    = layers.Dropout(dropoutRate)(block1)\n",
        "    \n",
        "    block2    = layers.SeparableConv2D(F2, (1, 16), use_bias = False, padding = 'same')(block1)\n",
        "    block2    = layers.BatchNormalization()(block2)\n",
        "    block2    = layers.Activation('elu')(block2)\n",
        "    block2    = layers.AveragePooling2D((1, 8))(block2)\n",
        "    block2    = layers.Dropout(dropoutRate)(block2)\n",
        "    \n",
        "    flatten   = layers.Flatten(name = 'flatten')(block2)\n",
        "    dense     = layers.Dense(nb_classes, name = 'dense', kernel_constraint = max_norm(norm_rate))(flatten)\n",
        "    output    = layers.Activation('softmax', name = 'softmax')(dense)\n",
        "    \n",
        "    return models.Model(inputs=input, outputs=output)\n",
        "\n",
        "model2 = EEGNet(6, 22, 200)\n",
        "\n",
        "model2.summary()"
      ]
    },
    {
      "cell_type": "code",
      "execution_count": 25,
      "metadata": {
        "id": "2ca3yIsbx1Iv"
      },
      "outputs": [],
      "source": [
        "optimizer = optimizers.Adam()\n",
        "loss = losses.SparseCategoricalCrossentropy()\n",
        "model2.compile(optimizer=optimizer, loss=loss, metrics=[\"accuracy\"])"
      ]
    },
    {
      "cell_type": "code",
      "execution_count": 26,
      "metadata": {
        "colab": {
          "base_uri": "https://localhost:8080/"
        },
        "id": "xlB3xlKMx1K0",
        "outputId": "bea0b02a-9424-4e1b-9ab0-546de7c0811b"
      },
      "outputs": [
        {
          "name": "stdout",
          "output_type": "stream",
          "text": [
            "Epoch 1/100\n",
            "19/19 [==============================] - 1s 18ms/step - loss: 1.7445 - accuracy: 0.2831 - val_loss: 1.7107 - val_accuracy: 0.5329\n",
            "Epoch 2/100\n",
            "19/19 [==============================] - 0s 9ms/step - loss: 1.5045 - accuracy: 0.6242 - val_loss: 1.5715 - val_accuracy: 0.7368\n",
            "Epoch 3/100\n",
            "19/19 [==============================] - 0s 9ms/step - loss: 1.2502 - accuracy: 0.7285 - val_loss: 1.4084 - val_accuracy: 0.8092\n",
            "Epoch 4/100\n",
            "19/19 [==============================] - 0s 8ms/step - loss: 1.0545 - accuracy: 0.7914 - val_loss: 1.2692 - val_accuracy: 0.8355\n",
            "Epoch 5/100\n",
            "19/19 [==============================] - 0s 8ms/step - loss: 0.9382 - accuracy: 0.8543 - val_loss: 1.1588 - val_accuracy: 0.8553\n",
            "Epoch 6/100\n",
            "19/19 [==============================] - 0s 9ms/step - loss: 0.8505 - accuracy: 0.8609 - val_loss: 1.0884 - val_accuracy: 0.9013\n",
            "Epoch 7/100\n",
            "19/19 [==============================] - 0s 9ms/step - loss: 0.8238 - accuracy: 0.8675 - val_loss: 1.0315 - val_accuracy: 0.9013\n",
            "Epoch 8/100\n",
            "19/19 [==============================] - 0s 8ms/step - loss: 0.7929 - accuracy: 0.8858 - val_loss: 0.9995 - val_accuracy: 0.9079\n",
            "Epoch 9/100\n",
            "19/19 [==============================] - 0s 7ms/step - loss: 0.7694 - accuracy: 0.8841 - val_loss: 0.9742 - val_accuracy: 0.9276\n",
            "Epoch 10/100\n",
            "19/19 [==============================] - 0s 7ms/step - loss: 0.7377 - accuracy: 0.8940 - val_loss: 0.9381 - val_accuracy: 0.9474\n",
            "Epoch 11/100\n",
            "19/19 [==============================] - 0s 8ms/step - loss: 0.7073 - accuracy: 0.9123 - val_loss: 0.8821 - val_accuracy: 0.9474\n",
            "Epoch 12/100\n",
            "19/19 [==============================] - 0s 8ms/step - loss: 0.6788 - accuracy: 0.9222 - val_loss: 0.8335 - val_accuracy: 0.9408\n",
            "Epoch 13/100\n",
            "19/19 [==============================] - 0s 8ms/step - loss: 0.6690 - accuracy: 0.9255 - val_loss: 0.8288 - val_accuracy: 0.9539\n",
            "Epoch 14/100\n",
            "19/19 [==============================] - 0s 7ms/step - loss: 0.6576 - accuracy: 0.9255 - val_loss: 0.8133 - val_accuracy: 0.9605\n",
            "Epoch 15/100\n",
            "19/19 [==============================] - 0s 7ms/step - loss: 0.6460 - accuracy: 0.9288 - val_loss: 0.7431 - val_accuracy: 0.9803\n",
            "Epoch 16/100\n",
            "19/19 [==============================] - 0s 8ms/step - loss: 0.6236 - accuracy: 0.9305 - val_loss: 0.7032 - val_accuracy: 0.9803\n",
            "Epoch 17/100\n",
            "19/19 [==============================] - 0s 8ms/step - loss: 0.6023 - accuracy: 0.9354 - val_loss: 0.6903 - val_accuracy: 0.9671\n",
            "Epoch 18/100\n",
            "19/19 [==============================] - 0s 8ms/step - loss: 0.5757 - accuracy: 0.9520 - val_loss: 0.6831 - val_accuracy: 0.9539\n",
            "Epoch 19/100\n",
            "19/19 [==============================] - 0s 7ms/step - loss: 0.5663 - accuracy: 0.9586 - val_loss: 0.6724 - val_accuracy: 0.9605\n",
            "Epoch 20/100\n",
            "19/19 [==============================] - 0s 8ms/step - loss: 0.5836 - accuracy: 0.9421 - val_loss: 0.6190 - val_accuracy: 0.9605\n",
            "Epoch 21/100\n",
            "19/19 [==============================] - 0s 8ms/step - loss: 0.5482 - accuracy: 0.9404 - val_loss: 0.6357 - val_accuracy: 0.9605\n",
            "Epoch 22/100\n",
            "19/19 [==============================] - 0s 8ms/step - loss: 0.5403 - accuracy: 0.9487 - val_loss: 0.5729 - val_accuracy: 0.9671\n",
            "Epoch 23/100\n",
            "19/19 [==============================] - 0s 7ms/step - loss: 0.5350 - accuracy: 0.9454 - val_loss: 0.5716 - val_accuracy: 0.9605\n",
            "Epoch 24/100\n",
            "19/19 [==============================] - 0s 8ms/step - loss: 0.5263 - accuracy: 0.9487 - val_loss: 0.5519 - val_accuracy: 0.9539\n",
            "Epoch 25/100\n",
            "19/19 [==============================] - 0s 7ms/step - loss: 0.5075 - accuracy: 0.9636 - val_loss: 0.4835 - val_accuracy: 0.9737\n",
            "Epoch 26/100\n",
            "19/19 [==============================] - 0s 7ms/step - loss: 0.4958 - accuracy: 0.9636 - val_loss: 0.5188 - val_accuracy: 0.9539\n",
            "Epoch 27/100\n",
            "19/19 [==============================] - 0s 9ms/step - loss: 0.4950 - accuracy: 0.9387 - val_loss: 0.4694 - val_accuracy: 0.9671\n",
            "Epoch 28/100\n",
            "19/19 [==============================] - 0s 7ms/step - loss: 0.4889 - accuracy: 0.9520 - val_loss: 0.4501 - val_accuracy: 0.9737\n",
            "Epoch 29/100\n",
            "19/19 [==============================] - 0s 8ms/step - loss: 0.4809 - accuracy: 0.9586 - val_loss: 0.4380 - val_accuracy: 0.9737\n",
            "Epoch 30/100\n",
            "19/19 [==============================] - 0s 7ms/step - loss: 0.4629 - accuracy: 0.9603 - val_loss: 0.4393 - val_accuracy: 0.9671\n",
            "Epoch 31/100\n",
            "19/19 [==============================] - 0s 7ms/step - loss: 0.4639 - accuracy: 0.9520 - val_loss: 0.4255 - val_accuracy: 0.9803\n",
            "Epoch 32/100\n",
            "19/19 [==============================] - 0s 7ms/step - loss: 0.4669 - accuracy: 0.9454 - val_loss: 0.3985 - val_accuracy: 0.9737\n",
            "Epoch 33/100\n",
            "19/19 [==============================] - 0s 7ms/step - loss: 0.4478 - accuracy: 0.9603 - val_loss: 0.3814 - val_accuracy: 0.9868\n",
            "Epoch 34/100\n",
            "19/19 [==============================] - 0s 7ms/step - loss: 0.4451 - accuracy: 0.9503 - val_loss: 0.3583 - val_accuracy: 0.9868\n",
            "Epoch 35/100\n",
            "19/19 [==============================] - 0s 8ms/step - loss: 0.4388 - accuracy: 0.9652 - val_loss: 0.3609 - val_accuracy: 0.9868\n",
            "Epoch 36/100\n",
            "19/19 [==============================] - 0s 7ms/step - loss: 0.4313 - accuracy: 0.9619 - val_loss: 0.3575 - val_accuracy: 0.9868\n",
            "Epoch 37/100\n",
            "19/19 [==============================] - 0s 7ms/step - loss: 0.4018 - accuracy: 0.9619 - val_loss: 0.3411 - val_accuracy: 0.9737\n",
            "Epoch 38/100\n",
            "19/19 [==============================] - 0s 8ms/step - loss: 0.3969 - accuracy: 0.9719 - val_loss: 0.3341 - val_accuracy: 0.9868\n",
            "Epoch 39/100\n",
            "19/19 [==============================] - 0s 7ms/step - loss: 0.4066 - accuracy: 0.9702 - val_loss: 0.3166 - val_accuracy: 0.9868\n",
            "Epoch 40/100\n",
            "19/19 [==============================] - 0s 8ms/step - loss: 0.4041 - accuracy: 0.9553 - val_loss: 0.2919 - val_accuracy: 0.9868\n",
            "Epoch 41/100\n",
            "19/19 [==============================] - 0s 7ms/step - loss: 0.3927 - accuracy: 0.9652 - val_loss: 0.3395 - val_accuracy: 0.9737\n",
            "Epoch 42/100\n",
            "19/19 [==============================] - 0s 7ms/step - loss: 0.3779 - accuracy: 0.9685 - val_loss: 0.3101 - val_accuracy: 0.9868\n",
            "Epoch 43/100\n",
            "19/19 [==============================] - 0s 8ms/step - loss: 0.3738 - accuracy: 0.9735 - val_loss: 0.3012 - val_accuracy: 0.9803\n",
            "Epoch 44/100\n",
            "19/19 [==============================] - 0s 8ms/step - loss: 0.3770 - accuracy: 0.9553 - val_loss: 0.2902 - val_accuracy: 0.9803\n",
            "Epoch 45/100\n",
            "19/19 [==============================] - 0s 7ms/step - loss: 0.3705 - accuracy: 0.9669 - val_loss: 0.2875 - val_accuracy: 0.9868\n",
            "Epoch 46/100\n",
            "19/19 [==============================] - 0s 7ms/step - loss: 0.3663 - accuracy: 0.9636 - val_loss: 0.3000 - val_accuracy: 0.9868\n",
            "Epoch 47/100\n",
            "19/19 [==============================] - 0s 7ms/step - loss: 0.3529 - accuracy: 0.9719 - val_loss: 0.2986 - val_accuracy: 0.9803\n",
            "Epoch 48/100\n",
            "19/19 [==============================] - 0s 7ms/step - loss: 0.3545 - accuracy: 0.9685 - val_loss: 0.2908 - val_accuracy: 0.9803\n",
            "Epoch 49/100\n",
            "19/19 [==============================] - 0s 7ms/step - loss: 0.3578 - accuracy: 0.9702 - val_loss: 0.2736 - val_accuracy: 0.9737\n",
            "Epoch 50/100\n",
            "19/19 [==============================] - 0s 7ms/step - loss: 0.3589 - accuracy: 0.9702 - val_loss: 0.2733 - val_accuracy: 0.9803\n",
            "Epoch 51/100\n",
            "19/19 [==============================] - 0s 7ms/step - loss: 0.3316 - accuracy: 0.9768 - val_loss: 0.2576 - val_accuracy: 0.9868\n",
            "Epoch 52/100\n",
            "19/19 [==============================] - 0s 7ms/step - loss: 0.3143 - accuracy: 0.9719 - val_loss: 0.2766 - val_accuracy: 0.9803\n",
            "Epoch 53/100\n",
            "19/19 [==============================] - 0s 7ms/step - loss: 0.3270 - accuracy: 0.9702 - val_loss: 0.2598 - val_accuracy: 0.9803\n",
            "Epoch 54/100\n",
            "19/19 [==============================] - 0s 8ms/step - loss: 0.3274 - accuracy: 0.9801 - val_loss: 0.2791 - val_accuracy: 0.9737\n",
            "Epoch 55/100\n",
            "19/19 [==============================] - 0s 8ms/step - loss: 0.3137 - accuracy: 0.9702 - val_loss: 0.2535 - val_accuracy: 0.9803\n",
            "Epoch 56/100\n",
            "19/19 [==============================] - 0s 7ms/step - loss: 0.3061 - accuracy: 0.9818 - val_loss: 0.2505 - val_accuracy: 0.9803\n",
            "Epoch 57/100\n",
            "19/19 [==============================] - 0s 7ms/step - loss: 0.3083 - accuracy: 0.9768 - val_loss: 0.2321 - val_accuracy: 0.9803\n",
            "Epoch 58/100\n",
            "19/19 [==============================] - 0s 7ms/step - loss: 0.3034 - accuracy: 0.9719 - val_loss: 0.2326 - val_accuracy: 0.9803\n",
            "Epoch 59/100\n",
            "19/19 [==============================] - 0s 8ms/step - loss: 0.2917 - accuracy: 0.9818 - val_loss: 0.2338 - val_accuracy: 0.9803\n",
            "Epoch 60/100\n",
            "19/19 [==============================] - 0s 7ms/step - loss: 0.2961 - accuracy: 0.9752 - val_loss: 0.2157 - val_accuracy: 0.9868\n",
            "Epoch 61/100\n",
            "19/19 [==============================] - 0s 8ms/step - loss: 0.2881 - accuracy: 0.9752 - val_loss: 0.2326 - val_accuracy: 0.9803\n",
            "Epoch 62/100\n",
            "19/19 [==============================] - 0s 7ms/step - loss: 0.2810 - accuracy: 0.9834 - val_loss: 0.2143 - val_accuracy: 0.9868\n",
            "Epoch 63/100\n",
            "19/19 [==============================] - 0s 7ms/step - loss: 0.3018 - accuracy: 0.9536 - val_loss: 0.2424 - val_accuracy: 0.9803\n",
            "Epoch 64/100\n",
            "19/19 [==============================] - 0s 7ms/step - loss: 0.2922 - accuracy: 0.9752 - val_loss: 0.2097 - val_accuracy: 0.9868\n",
            "Epoch 65/100\n",
            "19/19 [==============================] - 0s 7ms/step - loss: 0.2800 - accuracy: 0.9768 - val_loss: 0.2198 - val_accuracy: 0.9803\n",
            "Epoch 66/100\n",
            "19/19 [==============================] - 0s 7ms/step - loss: 0.2891 - accuracy: 0.9785 - val_loss: 0.2077 - val_accuracy: 0.9803\n",
            "Epoch 67/100\n",
            "19/19 [==============================] - 0s 7ms/step - loss: 0.2826 - accuracy: 0.9652 - val_loss: 0.2110 - val_accuracy: 0.9803\n",
            "Epoch 68/100\n",
            "19/19 [==============================] - 0s 8ms/step - loss: 0.2791 - accuracy: 0.9702 - val_loss: 0.2118 - val_accuracy: 0.9868\n",
            "Epoch 69/100\n",
            "19/19 [==============================] - 0s 7ms/step - loss: 0.2801 - accuracy: 0.9702 - val_loss: 0.2128 - val_accuracy: 0.9803\n",
            "Epoch 70/100\n",
            "19/19 [==============================] - 0s 7ms/step - loss: 0.2712 - accuracy: 0.9735 - val_loss: 0.2162 - val_accuracy: 0.9737\n",
            "Epoch 71/100\n",
            "19/19 [==============================] - 0s 7ms/step - loss: 0.2619 - accuracy: 0.9801 - val_loss: 0.1916 - val_accuracy: 0.9803\n",
            "Epoch 72/100\n",
            "19/19 [==============================] - 0s 7ms/step - loss: 0.2556 - accuracy: 0.9834 - val_loss: 0.1948 - val_accuracy: 0.9803\n",
            "Epoch 73/100\n",
            "19/19 [==============================] - 0s 7ms/step - loss: 0.2613 - accuracy: 0.9801 - val_loss: 0.1838 - val_accuracy: 0.9803\n",
            "Epoch 74/100\n",
            "19/19 [==============================] - 0s 7ms/step - loss: 0.2483 - accuracy: 0.9801 - val_loss: 0.1973 - val_accuracy: 0.9868\n",
            "Epoch 75/100\n",
            "19/19 [==============================] - 0s 8ms/step - loss: 0.2512 - accuracy: 0.9735 - val_loss: 0.1855 - val_accuracy: 0.9868\n",
            "Epoch 76/100\n",
            "19/19 [==============================] - 0s 7ms/step - loss: 0.2421 - accuracy: 0.9768 - val_loss: 0.1943 - val_accuracy: 0.9803\n",
            "Epoch 77/100\n",
            "19/19 [==============================] - 0s 7ms/step - loss: 0.2481 - accuracy: 0.9768 - val_loss: 0.1929 - val_accuracy: 0.9803\n",
            "Epoch 78/100\n",
            "19/19 [==============================] - 0s 7ms/step - loss: 0.2496 - accuracy: 0.9735 - val_loss: 0.1848 - val_accuracy: 0.9868\n",
            "Epoch 79/100\n",
            "19/19 [==============================] - 0s 7ms/step - loss: 0.2516 - accuracy: 0.9818 - val_loss: 0.1775 - val_accuracy: 0.9868\n",
            "Epoch 80/100\n",
            "19/19 [==============================] - 0s 7ms/step - loss: 0.2482 - accuracy: 0.9752 - val_loss: 0.1700 - val_accuracy: 0.9868\n",
            "Epoch 81/100\n",
            "19/19 [==============================] - 0s 8ms/step - loss: 0.2448 - accuracy: 0.9834 - val_loss: 0.1744 - val_accuracy: 0.9803\n",
            "Epoch 82/100\n",
            "19/19 [==============================] - 0s 8ms/step - loss: 0.2324 - accuracy: 0.9834 - val_loss: 0.1686 - val_accuracy: 0.9868\n",
            "Epoch 83/100\n",
            "19/19 [==============================] - 0s 7ms/step - loss: 0.2374 - accuracy: 0.9801 - val_loss: 0.1724 - val_accuracy: 0.9868\n",
            "Epoch 84/100\n",
            "19/19 [==============================] - 0s 8ms/step - loss: 0.2318 - accuracy: 0.9735 - val_loss: 0.1727 - val_accuracy: 0.9868\n",
            "Epoch 85/100\n",
            "19/19 [==============================] - 0s 7ms/step - loss: 0.2297 - accuracy: 0.9702 - val_loss: 0.1681 - val_accuracy: 0.9868\n",
            "Epoch 86/100\n",
            "19/19 [==============================] - 0s 7ms/step - loss: 0.2298 - accuracy: 0.9785 - val_loss: 0.1723 - val_accuracy: 0.9803\n",
            "Epoch 87/100\n",
            "19/19 [==============================] - 0s 7ms/step - loss: 0.2169 - accuracy: 0.9801 - val_loss: 0.1656 - val_accuracy: 0.9868\n",
            "Epoch 88/100\n",
            "19/19 [==============================] - 0s 7ms/step - loss: 0.2217 - accuracy: 0.9818 - val_loss: 0.1766 - val_accuracy: 0.9737\n",
            "Epoch 89/100\n",
            "19/19 [==============================] - 0s 8ms/step - loss: 0.2259 - accuracy: 0.9719 - val_loss: 0.1626 - val_accuracy: 0.9868\n",
            "Epoch 90/100\n",
            "19/19 [==============================] - 0s 7ms/step - loss: 0.2195 - accuracy: 0.9818 - val_loss: 0.1656 - val_accuracy: 0.9737\n",
            "Epoch 91/100\n",
            "19/19 [==============================] - 0s 8ms/step - loss: 0.2261 - accuracy: 0.9768 - val_loss: 0.1771 - val_accuracy: 0.9803\n",
            "Epoch 92/100\n",
            "19/19 [==============================] - 0s 7ms/step - loss: 0.2231 - accuracy: 0.9735 - val_loss: 0.1613 - val_accuracy: 0.9803\n",
            "Epoch 93/100\n",
            "19/19 [==============================] - 0s 7ms/step - loss: 0.2332 - accuracy: 0.9818 - val_loss: 0.1550 - val_accuracy: 0.9868\n",
            "Epoch 94/100\n",
            "19/19 [==============================] - 0s 7ms/step - loss: 0.2095 - accuracy: 0.9834 - val_loss: 0.1578 - val_accuracy: 0.9868\n",
            "Epoch 95/100\n",
            "19/19 [==============================] - 0s 7ms/step - loss: 0.2157 - accuracy: 0.9818 - val_loss: 0.1597 - val_accuracy: 0.9803\n",
            "Epoch 96/100\n",
            "19/19 [==============================] - 0s 8ms/step - loss: 0.2026 - accuracy: 0.9834 - val_loss: 0.1574 - val_accuracy: 0.9803\n",
            "Epoch 97/100\n",
            "19/19 [==============================] - 0s 8ms/step - loss: 0.2161 - accuracy: 0.9719 - val_loss: 0.1535 - val_accuracy: 0.9803\n",
            "Epoch 98/100\n",
            "19/19 [==============================] - 0s 7ms/step - loss: 0.2051 - accuracy: 0.9768 - val_loss: 0.1606 - val_accuracy: 0.9868\n",
            "Epoch 99/100\n",
            "19/19 [==============================] - 0s 7ms/step - loss: 0.2074 - accuracy: 0.9851 - val_loss: 0.1480 - val_accuracy: 0.9868\n",
            "Epoch 100/100\n",
            "19/19 [==============================] - 0s 8ms/step - loss: 0.2002 - accuracy: 0.9884 - val_loss: 0.1487 - val_accuracy: 0.9868\n"
          ]
        }
      ],
      "source": [
        "n_epochs = 100\n",
        "history2 = model2.fit(X_train, Y_train, validation_data=(X_val, Y_val), epochs=n_epochs)"
      ]
    },
    {
      "cell_type": "code",
      "execution_count": 35,
      "metadata": {
        "colab": {
          "base_uri": "https://localhost:8080/"
        },
        "id": "L0Xldii4xw-g",
        "outputId": "b33670e3-7c32-406e-ed59-531533f07e22"
      },
      "outputs": [
        {
          "name": "stdout",
          "output_type": "stream",
          "text": [
            "Train Accuracy: 0.9900662302970886\n",
            "Val Accuracy: 0.9868420958518982\n"
          ]
        }
      ],
      "source": [
        "train_loss2, train_acc2 = model2.evaluate(X_train, Y_train, verbose=0)\n",
        "val_loss2, val_acc2 = model2.evaluate(X_val, Y_val, verbose=0)\n",
        "print(\"Train Accuracy:\", train_acc2)\n",
        "print(\"Val Accuracy:\", val_acc2)"
      ]
    },
    {
      "cell_type": "code",
      "execution_count": 27,
      "metadata": {
        "colab": {
          "base_uri": "https://localhost:8080/",
          "height": 312
        },
        "id": "OvkWFcZPAD1T",
        "outputId": "0ba99eb4-2f48-4d08-9eb8-157680c4d3ff"
      },
      "outputs": [
        {
          "data": {
            "text/plain": [
              "<matplotlib.legend.Legend at 0x7f91413fb5b0>"
            ]
          },
          "execution_count": 27,
          "metadata": {},
          "output_type": "execute_result"
        },
        {
          "data": {
            "image/png": "[encoded data removed]",
            "text/plain": [
              "<Figure size 432x288 with 1 Axes>"
            ]
          },
          "metadata": {
            "needs_background": "light"
          },
          "output_type": "display_data"
        }
      ],
      "source": [
        "plt.plot(history2.history['accuracy'], label='Train Accuracy')\n",
        "plt.plot(history2.history['val_accuracy'], label='Val Accuracy')\n",
        "plt.title('Training and Validation Accuracy')\n",
        "plt.xlabel('Epoch')\n",
        "plt.ylabel('Accuracy')\n",
        "plt.legend(loc='lower right')"
      ]
    },
    {
      "cell_type": "code",
      "execution_count": 28,
      "metadata": {
        "colab": {
          "base_uri": "https://localhost:8080/",
          "height": 312
        },
        "id": "dygDkpFGAGn8",
        "outputId": "7d3b98af-a853-4427-b679-ecd7657ef77a"
      },
      "outputs": [
        {
          "data": {
            "text/plain": [
              "<matplotlib.legend.Legend at 0x7f91415f61f0>"
            ]
          },
          "execution_count": 28,
          "metadata": {},
          "output_type": "execute_result"
        },
        {
          "data": {
            "image/png": "[encoded data removed]",
            "text/plain": [
              "<Figure size 432x288 with 1 Axes>"
            ]
          },
          "metadata": {
            "needs_background": "light"
          },
          "output_type": "display_data"
        }
      ],
      "source": [
        "plt.plot(history2.history['loss'], label='Train Loss')\n",
        "plt.plot(history2.history['val_loss'], label='Val Loss')\n",
        "plt.title('Training and Validation Loss')\n",
        "plt.xlabel('Epoch')\n",
        "plt.ylabel('Loss')\n",
        "plt.legend(loc='upper right')"
      ]
    },
    {
      "cell_type": "code",
      "execution_count": 29,
      "metadata": {
        "colab": {
          "base_uri": "https://localhost:8080/"
        },
        "id": "Ge8jZUU8gve3",
        "outputId": "2cb8d6f9-5a32-4b17-99e0-7e2b9f5820b5"
      },
      "outputs": [
        {
          "name": "stdout",
          "output_type": "stream",
          "text": [
            "6/6 [==============================] - 0s 8ms/step\n"
          ]
        }
      ],
      "source": [
        "output2 = model2.predict(X_test)\n",
        "output2 = np.argmax(output2, axis=1).reshape(-1, 1)\n",
        "assert(output2.shape == (190, 1))\n",
        "np.savetxt('eegnet_output.csv', output2, delimiter=\",\")"
      ]
    }
  ],
  "metadata": {
    "accelerator": "GPU",
    "colab": {
      "provenance": []
    },
    "gpuClass": "standard",
    "kernelspec": {
      "display_name": "Python 3",
      "name": "python3"
    },
    "language_info": {
      "name": "python"
    }
  },
  "nbformat": 4,
  "nbformat_minor": 0
}
